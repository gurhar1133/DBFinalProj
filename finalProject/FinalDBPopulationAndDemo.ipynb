{
 "cells": [
  {
   "cell_type": "code",
   "execution_count": 1,
   "id": "dd0c4c8c-240a-4f3f-ba0a-424bba472639",
   "metadata": {},
   "outputs": [],
   "source": [
    "import sqlalchemy\n",
    "import numpy as np\n",
    "import pandas as pd\n",
    "import sqlite3"
   ]
  },
  {
   "cell_type": "code",
   "execution_count": 2,
   "id": "5c6bb882-7cb4-45df-b34b-2b1b504f6c56",
   "metadata": {
    "jupyter": {
     "source_hidden": true
    },
    "tags": []
   },
   "outputs": [],
   "source": [
    "# username = \"gukh8079\"\n",
    "# passwd = \"1a65fd1c0d48ac3524ac\"\n",
    "# host = \"applied-sql.cs.colorado.edu\"\n",
    "# dbname = \"gukh8079\""
   ]
  },
  {
   "cell_type": "code",
   "execution_count": 3,
   "id": "4754e8dd-d666-4ac5-a91b-fb4d84866d43",
   "metadata": {
    "jupyter": {
     "source_hidden": true
    },
    "tags": []
   },
   "outputs": [],
   "source": [
    "# db_string = \"mysql://{0}:{1}@{2}/{3}\".format(\n",
    "#     username, passwd, host, dbname\n",
    "# )\n",
    "# print(\"Connection string is\", db_string)"
   ]
  },
  {
   "cell_type": "code",
   "execution_count": 4,
   "id": "a54a23bb-f603-4f3b-9186-cec14b908cc7",
   "metadata": {
    "jupyter": {
     "source_hidden": true
    },
    "tags": []
   },
   "outputs": [],
   "source": [
    "# try:\n",
    "#     engine = sqlalchemy.create_engine( db_string );\n",
    "#     conn = engine.connect()\n",
    "# except Exception as exp:\n",
    "#     print(\"Create engine failed:\", exp)"
   ]
  },
  {
   "cell_type": "code",
   "execution_count": 5,
   "id": "23c6d882-3b8b-4b1d-9d16-1f23e8a1e9f9",
   "metadata": {
    "jupyter": {
     "source_hidden": true
    },
    "tags": []
   },
   "outputs": [],
   "source": [
    "# kills = conn.execute('''\n",
    "#  Select concat('KILL ',id,';') from information_schema.processlist where user='gukh8079';\n",
    "# ''').fetchall()\n",
    "# kills"
   ]
  },
  {
   "cell_type": "code",
   "execution_count": 6,
   "id": "cfc02b04-1aad-4b1d-9f8e-0abbc5e977f2",
   "metadata": {
    "jupyter": {
     "source_hidden": true
    },
    "tags": []
   },
   "outputs": [],
   "source": [
    "# print(str(kills[0]))\n",
    "# for kill in kills:\n",
    "#     command = str(kill).replace(\"(\", \"\").replace(\")\", \"\").replace(\",\",\"\").replace(\"'\",\"\")\n",
    "#     print(command)\n",
    "#     conn.execute(f\"{command}\").fetchall()"
   ]
  },
  {
   "cell_type": "markdown",
   "id": "e87ce98c-295f-4c3a-bd7f-5010c225dee7",
   "metadata": {
    "tags": []
   },
   "source": [
    "### Gurhar Khalsa Databases Final Project\n",
    "* Video Link:\n",
    "* Github Link:\n",
    "\n",
    "* Github repo contains table initialization script, find functional dependencies and BCNF algorithms etc.\n",
    "\n",
    "\n",
    "\n",
    "\n",
    "\n",
    "#### Motivation and learning outcomes:\n",
    "    - To make a normalised database of olympic medalist data that supports the common queries one might perform on such a database\n",
    "    - To gain a deeper understanding of the concepts learned in class regarding normalization, and good table schemas.\n",
    "    - To practice the implementation of databases constraints, triggers, common queries etc.\n",
    "\n",
    "\n",
    "* Because I wanted to design a normalized schema I made an BCNF normalizing algorithm that I applied to the flat csv data using pandas and python. I also made use of the closure computing algorithms provided to us in lecture in closure.py. The details are in findFD.ipynb, but here is some code examples:\n",
    "\n",
    "* The algorithm below performs recursive a BCNF decomposition\n",
    "\n",
    "```\n",
    "def bcnf_decompose(R_attrs, verbose=False):\n",
    "    # A relation R is in BCNF if and only if: \n",
    "    # whenever there is a nontrivial FD  A1 A2 ... An -> B1 B2 ... Bm for R,\n",
    "    # it is the case that { A1, A2 , ... , An } is  a superkey for R\n",
    "\n",
    "    attr_combos = list([set(x) for x in list(powerset(R_attrs)) if len(x) > 0])\n",
    "    \n",
    "    for attr_combo in attr_combos:\n",
    "        \n",
    "        x_closure = compute_closure(attr_combo, reversed(olympic_fds)).intersection(R_attrs)\n",
    "        if not is_superkey(attr_combo, R_attrs, reversed(olympic_fds)) and x_closure != attr_combo:\n",
    "            \n",
    "            print(attr_combo, \"bad fd\", x_closure)\n",
    "            \n",
    "            if verbose:\n",
    "                print(\"R_attrs:\", R_attrs)\n",
    "                print(\"X or attr_combo:\", attr_combo)\n",
    "         \n",
    "                \n",
    "            z = R_attrs - x_closure \n",
    "           \n",
    "            y = x_closure - attr_combo\n",
    "            \n",
    "            if verbose:\n",
    "                print(\"y :\", y)\n",
    "                print(\"z: \", z)\n",
    "            \n",
    "            r1 = bcnf_decompose(y.union(attr_combo))\n",
    "            r2 = bcnf_decompose(z.union(attr_combo))\n",
    "            \n",
    "            return [r1, r2]\n",
    "        \n",
    "    return R_attrs\n",
    "    \n",
    "    \n",
    "    \n",
    "def bcnf(R_attrs, verbose=False):\n",
    "    return bcnf_decompose(R_attrs, verbose)\n",
    "\n",
    "```\n",
    "\n",
    "* The set of functions below were used to generate the functional dependencies in the data:\n",
    "\n",
    "```\n",
    "def powerset(iterable):\n",
    "    # https://stackoverflow.com/questions/1482308/how-to-get-all-subsets-of-a-set-powerset\n",
    "    \"powerset([1,2,3]) --> () (1,) (2,) (3,) (1,2) (1,3) (2,3) (1,2,3)\"\n",
    "    s = list(iterable)\n",
    "    return chain.from_iterable(combinations(s, r) for r in range(len(s)+1))\n",
    "    \n",
    "\n",
    "def check_fd(A_set, B, df):\n",
    "    # If two tuples of R agree on all of the attributes A 1 ; A2 ;::: ;An \n",
    "    # (i.e., the tuples have the same values in their respective components for each of these attributes),  \n",
    "    # then they must also agree on all of another list of attributes B 1 ; B2 ;::: ;Bm\n",
    "    \n",
    "    # For all values of A_set\n",
    "    #    check if given a value of A_set, the B is same\n",
    "    \n",
    "\n",
    "    \n",
    "    for group in df.groupby([*A_set])[B]:\n",
    "        if len(group[1].unique()) > 1:\n",
    "\n",
    "            return False\n",
    "        \n",
    "    return True\n",
    "    \n",
    "def get_all_candidates(df):\n",
    "    candidate_list = []\n",
    "    for tup in list(powerset(set(df.columns))):\n",
    "        if set(tup) not in candidate_list and len(set(tup)) > 0:\n",
    "            candidate_list.append(set(tup))\n",
    "    return candidate_list\n",
    "    \n",
    "    \n",
    "def get_all_fds(df):\n",
    "    # Rational for just checking against singleton set\n",
    "    # Bs: \"It is common for the right side of an FD to be a single attribute. \n",
    "    # In fact,  we shall see that the one functional dependency A 1 A 2 \u0001 \u0001 \u0001 A n -> B 1 B 2 \u0001 \u0001 \u0001 B m \n",
    "    # is  equivalent to the set of FD's: \n",
    "    # A 1 A 2 \u0001 \u0001 \u0001 A n -> B 1  \n",
    "    # A 1 A 2 \u0001 \u0001 \u0001 A n -> B 2  \n",
    "    # \u0001 \u0001 \u0001 \n",
    "    # A 1 A 2 \u0001 \u0001 \u0001 A n -> B\"\n",
    "    # (Database Systems the Complete Book p. 68)\n",
    "    fds = []\n",
    "    a_candidates = get_all_candidates(df)\n",
    "    b_candidates = set(df.columns)\n",
    "    print(\"required iterations = {val}\".format(val=len(a_candidates)*len(b_candidates)))\n",
    "    i = 0\n",
    "    for a_candidate in a_candidates:\n",
    "        for b_candidate in b_candidates:\n",
    "            i += 1\n",
    "            if i % 100 == 0:\n",
    "                print(i/len(a_candidates)*len(b_candidates), \"% complete\")\n",
    "            if b_candidate not in a_candidate: # this check to make sure non-trivial\n",
    "                if check_fd(a_candidate, b_candidate, df):\n",
    "                    fds.append((a_candidate, b_candidate))\n",
    "    return fds\n",
    "    \n",
    "\n",
    "```\n",
    "\n",
    "* The normalized schema generated by the BCNF normalization algorithm was:\n",
    "\n",
    "{'Discipline', 'Sport'},\n",
    "{'City', 'Year'},\n",
    "{'Athlete', 'Event', 'Gender'},\n",
    "{'Athlete', 'Country', 'Event', 'Year'},\n",
    "{'Athlete', 'Discipline', 'Event', 'Medal', 'Year'}\n",
    "\n",
    "\n",
    "* The below E/R Diagram follows the schema output by my BCNF algorithm:\n",
    "\n",
    "![Drag Racing](ERDiagram.png)\n",
    "\n",
    "* Once I had the ER diagram of my normalized schema I got to work with writing table initialization code\n",
    "* Note: I started with MySQL and was going to use MySQL workbench to forward engineer the database initialization of tables, but my colorado.edu mysql server kept crashing, so I switched to working with sqlite3 locally.\n",
    "\n",
    "* The following demonstrates the initialization of database tables, population of the database, establishing triggers, insertion update and deletion functions etc.\n",
    "\n",
    "\n",
    "### Lets take a look:"
   ]
  },
  {
   "cell_type": "code",
   "execution_count": 2,
   "id": "bcbeacfa-0069-42fd-b071-9d76af94b136",
   "metadata": {},
   "outputs": [],
   "source": [
    "con = sqlite3.connect('test.db')\n",
    "conn = con.cursor()"
   ]
  },
  {
   "cell_type": "markdown",
   "id": "72b57942-04ac-4f7a-b5a5-a09fdff71739",
   "metadata": {},
   "source": [
    "### Creating the tables"
   ]
  },
  {
   "cell_type": "code",
   "execution_count": 3,
   "id": "0077235e-5457-49ca-bce7-0e7c55e26ee0",
   "metadata": {},
   "outputs": [],
   "source": [
    "f = open(\"initializeTables.sql\")\n",
    "commandList = f.read().split(\";\")\n",
    "commands = [(command.strip() +\";\").replace(\"\\n\",\"\") for command in commandList]\n"
   ]
  },
  {
   "cell_type": "code",
   "execution_count": 4,
   "id": "c2378d8f-948e-43a6-ac9f-6a3df3021450",
   "metadata": {},
   "outputs": [],
   "source": [
    "for command in commands:\n",
    "    conn.execute(command).fetchall()"
   ]
  },
  {
   "cell_type": "markdown",
   "id": "15a7f39c-57be-42f8-a3c2-207d47e44486",
   "metadata": {},
   "source": [
    "##### Lets look at the tables"
   ]
  },
  {
   "cell_type": "code",
   "execution_count": 7,
   "id": "70f972fc-a8ba-48e2-ad6c-fe7ab67fd8fc",
   "metadata": {},
   "outputs": [
    {
     "data": {
      "text/plain": [
       "[(0, 'Athlete', 'VARCHAR(45)', 1, None, 1),\n",
       " (1, 'Event', 'VARCHAR(45)', 1, None, 2),\n",
       " (2, 'Year', 'INT', 1, None, 3),\n",
       " (3, 'Country', 'VARCHAR(45)', 0, None, 0)]"
      ]
     },
     "execution_count": 7,
     "metadata": {},
     "output_type": "execute_result"
    }
   ],
   "source": [
    "conn.execute(\"PRAGMA table_info(AthleteCountry);\").fetchall()"
   ]
  },
  {
   "cell_type": "code",
   "execution_count": 8,
   "id": "3a5c8409-5b9f-4b15-81de-c98b2e3076b4",
   "metadata": {},
   "outputs": [
    {
     "data": {
      "text/plain": [
       "[(0, 'Athlete', 'VARCHAR(45)', 1, None, 1),\n",
       " (1, 'Event', 'VARCHAR(45)', 1, None, 2),\n",
       " (2, 'Gender', 'VARCHAR(45)', 0, None, 0)]"
      ]
     },
     "execution_count": 8,
     "metadata": {},
     "output_type": "execute_result"
    }
   ],
   "source": [
    "conn.execute(\"PRAGMA table_info(AthleteEvent);\").fetchall()"
   ]
  },
  {
   "cell_type": "code",
   "execution_count": 9,
   "id": "2bec351e-37da-4265-a564-71da164cf760",
   "metadata": {},
   "outputs": [
    {
     "data": {
      "text/plain": [
       "[(0, 'Athlete', 'VARCHAR(45)', 1, None, 1),\n",
       " (1, 'Event', 'VARCHAR(45)', 1, None, 2),\n",
       " (2, 'Year', 'INT', 1, None, 3),\n",
       " (3, 'Discipline', 'VARCHAR(45)', 0, None, 5),\n",
       " (4, 'Medal', 'VARCHAR(45)', 0, None, 4)]"
      ]
     },
     "execution_count": 9,
     "metadata": {},
     "output_type": "execute_result"
    }
   ],
   "source": [
    "conn.execute(\"PRAGMA table_info(AthleteMedal);\").fetchall()"
   ]
  },
  {
   "cell_type": "code",
   "execution_count": 10,
   "id": "acadd587-db77-4b32-87d9-bd92955bb31b",
   "metadata": {},
   "outputs": [
    {
     "data": {
      "text/plain": [
       "[(0, 'Year', 'INT', 1, None, 1), (1, 'City', 'VARCHAR(45)', 0, None, 0)]"
      ]
     },
     "execution_count": 10,
     "metadata": {},
     "output_type": "execute_result"
    }
   ],
   "source": [
    "conn.execute(\"PRAGMA table_info(CityYear);\").fetchall()"
   ]
  },
  {
   "cell_type": "code",
   "execution_count": 11,
   "id": "77275bd7-ca03-4c40-9f9e-3e3acfb41d0e",
   "metadata": {},
   "outputs": [
    {
     "data": {
      "text/plain": [
       "[(0, 'Sport', 'VARCHAR(45)', 1, None, 2),\n",
       " (1, 'Discipline', 'VARCHAR(45)', 1, None, 1)]"
      ]
     },
     "execution_count": 11,
     "metadata": {},
     "output_type": "execute_result"
    }
   ],
   "source": [
    "conn.execute(\"PRAGMA table_info(Sports);\").fetchall()"
   ]
  },
  {
   "cell_type": "markdown",
   "id": "6b5e3b60-6dba-4deb-a454-c40e00d5738f",
   "metadata": {},
   "source": [
    "\n",
    "#### Now lets load the data in it's flat csv form"
   ]
  },
  {
   "cell_type": "code",
   "execution_count": 12,
   "id": "92bb6c5f-0fde-431f-8e18-ed97e6dafba3",
   "metadata": {},
   "outputs": [
    {
     "data": {
      "text/html": [
       "<div>\n",
       "<style scoped>\n",
       "    .dataframe tbody tr th:only-of-type {\n",
       "        vertical-align: middle;\n",
       "    }\n",
       "\n",
       "    .dataframe tbody tr th {\n",
       "        vertical-align: top;\n",
       "    }\n",
       "\n",
       "    .dataframe thead th {\n",
       "        text-align: right;\n",
       "    }\n",
       "</style>\n",
       "<table border=\"1\" class=\"dataframe\">\n",
       "  <thead>\n",
       "    <tr style=\"text-align: right;\">\n",
       "      <th></th>\n",
       "      <th>Year</th>\n",
       "      <th>City</th>\n",
       "      <th>Sport</th>\n",
       "      <th>Discipline</th>\n",
       "      <th>Athlete</th>\n",
       "      <th>Country</th>\n",
       "      <th>Gender</th>\n",
       "      <th>Event</th>\n",
       "      <th>Medal</th>\n",
       "    </tr>\n",
       "  </thead>\n",
       "  <tbody>\n",
       "    <tr>\n",
       "      <th>0</th>\n",
       "      <td>1896</td>\n",
       "      <td>Athens</td>\n",
       "      <td>Aquatics</td>\n",
       "      <td>Swimming</td>\n",
       "      <td>HAJOS, Alfred</td>\n",
       "      <td>HUN</td>\n",
       "      <td>Men</td>\n",
       "      <td>100M Freestyle</td>\n",
       "      <td>Gold</td>\n",
       "    </tr>\n",
       "    <tr>\n",
       "      <th>1</th>\n",
       "      <td>1896</td>\n",
       "      <td>Athens</td>\n",
       "      <td>Aquatics</td>\n",
       "      <td>Swimming</td>\n",
       "      <td>HERSCHMANN, Otto</td>\n",
       "      <td>AUT</td>\n",
       "      <td>Men</td>\n",
       "      <td>100M Freestyle</td>\n",
       "      <td>Silver</td>\n",
       "    </tr>\n",
       "    <tr>\n",
       "      <th>2</th>\n",
       "      <td>1896</td>\n",
       "      <td>Athens</td>\n",
       "      <td>Aquatics</td>\n",
       "      <td>Swimming</td>\n",
       "      <td>DRIVAS, Dimitrios</td>\n",
       "      <td>GRE</td>\n",
       "      <td>Men</td>\n",
       "      <td>100M Freestyle For Sailors</td>\n",
       "      <td>Bronze</td>\n",
       "    </tr>\n",
       "    <tr>\n",
       "      <th>3</th>\n",
       "      <td>1896</td>\n",
       "      <td>Athens</td>\n",
       "      <td>Aquatics</td>\n",
       "      <td>Swimming</td>\n",
       "      <td>MALOKINIS, Ioannis</td>\n",
       "      <td>GRE</td>\n",
       "      <td>Men</td>\n",
       "      <td>100M Freestyle For Sailors</td>\n",
       "      <td>Gold</td>\n",
       "    </tr>\n",
       "    <tr>\n",
       "      <th>4</th>\n",
       "      <td>1896</td>\n",
       "      <td>Athens</td>\n",
       "      <td>Aquatics</td>\n",
       "      <td>Swimming</td>\n",
       "      <td>CHASAPIS, Spiridon</td>\n",
       "      <td>GRE</td>\n",
       "      <td>Men</td>\n",
       "      <td>100M Freestyle For Sailors</td>\n",
       "      <td>Silver</td>\n",
       "    </tr>\n",
       "  </tbody>\n",
       "</table>\n",
       "</div>"
      ],
      "text/plain": [
       "   Year    City     Sport Discipline             Athlete Country Gender  \\\n",
       "0  1896  Athens  Aquatics   Swimming       HAJOS, Alfred     HUN    Men   \n",
       "1  1896  Athens  Aquatics   Swimming    HERSCHMANN, Otto     AUT    Men   \n",
       "2  1896  Athens  Aquatics   Swimming   DRIVAS, Dimitrios     GRE    Men   \n",
       "3  1896  Athens  Aquatics   Swimming  MALOKINIS, Ioannis     GRE    Men   \n",
       "4  1896  Athens  Aquatics   Swimming  CHASAPIS, Spiridon     GRE    Men   \n",
       "\n",
       "                        Event   Medal  \n",
       "0              100M Freestyle    Gold  \n",
       "1              100M Freestyle  Silver  \n",
       "2  100M Freestyle For Sailors  Bronze  \n",
       "3  100M Freestyle For Sailors    Gold  \n",
       "4  100M Freestyle For Sailors  Silver  "
      ]
     },
     "execution_count": 12,
     "metadata": {},
     "output_type": "execute_result"
    }
   ],
   "source": [
    "df = pd.read_csv(\"summer.csv\")\n",
    "df.head()"
   ]
  },
  {
   "cell_type": "code",
   "execution_count": 13,
   "id": "053c1c47-8144-4099-b371-0ab0e3b0edf9",
   "metadata": {},
   "outputs": [
    {
     "data": {
      "text/plain": [
       "666"
      ]
     },
     "execution_count": 13,
     "metadata": {},
     "output_type": "execute_result"
    }
   ],
   "source": [
    "len(df.Event.unique())"
   ]
  },
  {
   "cell_type": "code",
   "execution_count": 14,
   "id": "d7f88702-b54b-41e0-b664-6c53c98b56a6",
   "metadata": {},
   "outputs": [
    {
     "data": {
      "text/plain": [
       "67"
      ]
     },
     "execution_count": 14,
     "metadata": {},
     "output_type": "execute_result"
    }
   ],
   "source": [
    "len(df.Discipline.unique())"
   ]
  },
  {
   "cell_type": "code",
   "execution_count": 15,
   "id": "5b0c61d1-4a30-448e-a698-ffccdb61ef0e",
   "metadata": {},
   "outputs": [
    {
     "data": {
      "text/plain": [
       "43"
      ]
     },
     "execution_count": 15,
     "metadata": {},
     "output_type": "execute_result"
    }
   ],
   "source": [
    "len(df.Sport.unique())"
   ]
  },
  {
   "cell_type": "code",
   "execution_count": 16,
   "id": "c6ab6b1e-b05f-47df-961d-52772cf01227",
   "metadata": {},
   "outputs": [],
   "source": [
    "df['Athlete'] = df['Athlete'].apply(lambda x: x.replace(\"'\", \"\")) # Names like O'Connor break things"
   ]
  },
  {
   "cell_type": "markdown",
   "id": "31ce2789-e590-4b90-b6da-825e4b13108b",
   "metadata": {},
   "source": [
    "#### Functions to be used to populate the DB"
   ]
  },
  {
   "cell_type": "code",
   "execution_count": 17,
   "id": "b7620767-24fc-4fd6-9c76-9a3d2f60b029",
   "metadata": {},
   "outputs": [],
   "source": [
    "def insert_AthleteCountry(obj):\n",
    "    # ('Athlete',), ('Event',), ('Year',), ('Country',)\n",
    " \n",
    "    conn.execute(f\"\"\"\n",
    "        INSERT or IGNORE INTO AthleteCountry (Athlete, Event, Year, Country)\n",
    "        VALUES('{obj['Athlete']}', '{obj['Event']}', '{obj['Year']}', '{obj['Country']}');\n",
    "    \"\"\")\n",
    "    \n",
    "\n",
    "\n",
    "def insert_AthleteEvent(obj):\n",
    "    # [('Athlete',), ('Event',), ('Gender',)]\n",
    "\n",
    "    conn.execute(f\"\"\"\n",
    "        INSERT or IGNORE INTO AthleteEvent (Athlete, Event, Gender)\n",
    "        VALUES ('{obj['Athlete']}', '{obj['Event']}', '{obj['Gender']}');\n",
    "    \"\"\")\n",
    "    \n",
    "\n",
    "def insert_AthleteMedal(obj):\n",
    "    # [('Athlete',), ('Event',), ('Year',), ('Discipline',), ('Medal',)]\n",
    "\n",
    "    conn.execute(f\"\"\"\n",
    "        INSERT or IGNORE INTO AthleteMedal (Athlete, Event, Year, Discipline, Medal)\n",
    "        VALUES ('{obj['Athlete']}', '{obj['Event']}', '{obj['Year']}', '{obj['Discipline']}', '{obj['Medal']}');\n",
    "    \"\"\")\n",
    "    \n",
    "\n",
    "def insert_CityYear(obj):\n",
    "  \n",
    "    conn.execute(f\"\"\"\n",
    "        INSERT or IGNORE INTO CityYear (Year, City)\n",
    "        VALUES ('{obj['Year']}', '{obj['City']}');\n",
    "    \"\"\")\n",
    "    \n",
    "\n",
    "def insert_Sports(obj):\n",
    "\n",
    "        \n",
    "    conn.execute(f\"\"\"\n",
    "        INSERT or IGNORE INTO sports (Sport, Discipline)\n",
    "        VALUES ('{obj['Sport']}', '{obj['Discipline']}');\n",
    "    \"\"\")\n",
    "    \n",
    "\n",
    "    \n",
    "    \n",
    "    \n",
    "\n",
    "def populate_database(df):\n",
    "#     for index, obj in df.iterrows():\n",
    "#         sports_has_AthleteMedal(obj)\n",
    "        \n",
    "    for index, obj in df.iterrows():\n",
    "        insert_Sports(obj)\n",
    "    for index, obj in df.iterrows():\n",
    "        insert_AthleteEvent(obj)\n",
    "    for index, obj in df.iterrows():\n",
    "        insert_AthleteCountry(obj)\n",
    "    for index, obj in df.iterrows():\n",
    "        insert_AthleteMedal(obj)\n",
    "    for index, obj in df.iterrows():\n",
    "        insert_CityYear(obj)\n",
    "    \n"
   ]
  },
  {
   "cell_type": "markdown",
   "id": "8a2f1958-bc5a-4d16-8300-da8f645e2770",
   "metadata": {},
   "source": [
    "### Populating DB"
   ]
  },
  {
   "cell_type": "code",
   "execution_count": 18,
   "id": "ef1199a9-d2ad-4cef-b66d-be6a2028fd94",
   "metadata": {},
   "outputs": [],
   "source": [
    "populate_database(df)"
   ]
  },
  {
   "cell_type": "code",
   "execution_count": 19,
   "id": "4d0838fb-ff32-4c24-97f6-94f04ca23a9f",
   "metadata": {},
   "outputs": [
    {
     "data": {
      "text/plain": [
       "26748"
      ]
     },
     "execution_count": 19,
     "metadata": {},
     "output_type": "execute_result"
    }
   ],
   "source": [
    "len(conn.execute(\"SELECT * FROM AthleteEvent;\").fetchall())"
   ]
  },
  {
   "cell_type": "code",
   "execution_count": 20,
   "id": "0db0348b-bc57-4d7d-afcb-471ac4660ac5",
   "metadata": {},
   "outputs": [
    {
     "data": {
      "text/plain": [
       "31123"
      ]
     },
     "execution_count": 20,
     "metadata": {},
     "output_type": "execute_result"
    }
   ],
   "source": [
    "len(conn.execute(\"SELECT * FROM AthleteCountry;\").fetchall())\n"
   ]
  },
  {
   "cell_type": "code",
   "execution_count": 21,
   "id": "b63f1722-5d92-4053-8ccb-2d91f69a8bb9",
   "metadata": {},
   "outputs": [
    {
     "data": {
      "text/plain": [
       "31163"
      ]
     },
     "execution_count": 21,
     "metadata": {},
     "output_type": "execute_result"
    }
   ],
   "source": [
    "len(conn.execute(\"SELECT * FROM AthleteMedal;\").fetchall())"
   ]
  },
  {
   "cell_type": "code",
   "execution_count": 22,
   "id": "0bfb6422-28ac-4824-bb02-d984319281ee",
   "metadata": {},
   "outputs": [
    {
     "data": {
      "text/plain": [
       "67"
      ]
     },
     "execution_count": 22,
     "metadata": {},
     "output_type": "execute_result"
    }
   ],
   "source": [
    "len(conn.execute(\"SELECT * FROM Sports;\").fetchall())"
   ]
  },
  {
   "cell_type": "code",
   "execution_count": 23,
   "id": "1f895848-058f-46e3-9913-693e5357baf7",
   "metadata": {},
   "outputs": [
    {
     "data": {
      "text/plain": [
       "[(1896, 'Athens'),\n",
       " (1900, 'Paris'),\n",
       " (1904, 'St Louis'),\n",
       " (1908, 'London'),\n",
       " (1912, 'Stockholm'),\n",
       " (1920, 'Antwerp'),\n",
       " (1924, 'Paris'),\n",
       " (1928, 'Amsterdam'),\n",
       " (1932, 'Los Angeles'),\n",
       " (1936, 'Berlin'),\n",
       " (1948, 'London'),\n",
       " (1952, 'Helsinki'),\n",
       " (1956, 'Melbourne / Stockholm'),\n",
       " (1960, 'Rome'),\n",
       " (1964, 'Tokyo'),\n",
       " (1968, 'Mexico'),\n",
       " (1972, 'Munich'),\n",
       " (1976, 'Montreal'),\n",
       " (1980, 'Moscow'),\n",
       " (1984, 'Los Angeles'),\n",
       " (1988, 'Seoul'),\n",
       " (1992, 'Barcelona'),\n",
       " (1996, 'Atlanta'),\n",
       " (2000, 'Sydney'),\n",
       " (2004, 'Athens'),\n",
       " (2008, 'Beijing'),\n",
       " (2012, 'London')]"
      ]
     },
     "execution_count": 23,
     "metadata": {},
     "output_type": "execute_result"
    }
   ],
   "source": [
    "conn.execute(\"SELECT * FROM CityYear;\").fetchall()"
   ]
  },
  {
   "cell_type": "markdown",
   "id": "777b5aec-681e-49ee-9345-7e4fd3f83830",
   "metadata": {},
   "source": [
    "### Some basic QA"
   ]
  },
  {
   "cell_type": "code",
   "execution_count": 24,
   "id": "ce8c0e0d-2451-4b3a-accb-17b256fe6d72",
   "metadata": {},
   "outputs": [
    {
     "name": "stdout",
     "output_type": "stream",
     "text": [
      "TEST 1 PASSED\n",
      "TEST 2 PASSED\n",
      "TEST 3 PASSED (but orginal csv data is slightly off)\n"
     ]
    }
   ],
   "source": [
    "def display_flat_form(conn, limit=None, verbose=False):\n",
    "    if limit:\n",
    "        res = conn.execute(f\"\"\"Select * From AthleteEvent Natural Join (SELECT * FROM AthleteMedal Natural Join\n",
    "            (SELECT * FROM CityYear Natural Join \n",
    "                    (SELECT * FROM AthleteCountry NATURAL JOIN Sports\n",
    "                        )\n",
    "                        \n",
    "                    ))\n",
    "            LIMIT {limit};\"\"\").fetchall()\n",
    "        if verbose:\n",
    "            for row in res:\n",
    "                print(row)\n",
    "       \n",
    "        return res\n",
    "    else:\n",
    "        res =  conn.execute(\"\"\"Select * From AthleteEvent Natural Join (SELECT * FROM AthleteMedal Natural Join\n",
    "            (SELECT * FROM AthleteCountry  Natural Join \n",
    "                    (SELECT * FROM CityYear NATURAL JOIN Sports\n",
    "                        )\n",
    "                        \n",
    "                    ))\n",
    "            ;\"\"\").fetchall()\n",
    "        if verbose:\n",
    "            for row in res:\n",
    "                print(row)\n",
    "                \n",
    "        return res\n",
    "\n",
    "def test_AthleteCountry(df, conn):\n",
    "    \n",
    "  \n",
    "    db_res = conn.execute(\"\"\"\n",
    "        SELECT * FROM AthleteCountry;\n",
    "    \"\"\").fetchall()\n",
    "    \n",
    "    if len(db_res) == len(df[['Athlete', 'Event', 'Year', 'Country']].drop_duplicates()):\n",
    "        print(\"TEST 1 PASSED\")\n",
    "    else: \n",
    "        print(\"TEST 1 FAILED\")\n",
    "\n",
    "def test_join_size(df, conn):\n",
    "   \n",
    "    if len(df.drop_duplicates()) == len(display_flat_form(conn)):\n",
    "        print(\"TEST 2 PASSED\")\n",
    "    else:\n",
    "        print(\"TEST 2 FAILED\")\n",
    "        \n",
    "def test_phelps(df, conn):\n",
    "    df_res = len(df[(df['Athlete'] == \"PHELPS, Michael\") & (df['Medal'] == 'Gold')])\n",
    "    \n",
    "    db_res = len(conn.execute(\"\"\"\n",
    "        SELECT * FROM AthleteMedal Where Athlete = 'PHELPS, Michael' and Medal = 'Gold';\n",
    "        \"\"\").fetchall())\n",
    "    if df_res == db_res:\n",
    "        print(\"TEST 3 PASSED (but orginal csv data is slightly off)\")\n",
    "    else:\n",
    "        print(\"TEST 3 FAILED\")\n",
    "        \n",
    "        \n",
    "test_AthleteCountry(df, conn)\n",
    "test_join_size(df, conn)\n",
    "test_phelps(df, conn)\n"
   ]
  },
  {
   "cell_type": "code",
   "execution_count": 25,
   "id": "bda2bc1d-1352-4409-b297-0d863696a71a",
   "metadata": {},
   "outputs": [],
   "source": [
    "def insert_new(conn, tup):\n",
    "    # input should be an 9 tuple with form;\n",
    "    # (Year, City, Sport, Discipline, Athlete, Country, Gender, Event, Medal) \n",
    "        if type(tup) == tuple:\n",
    "            \n",
    "            obj = {\n",
    "                \"Year\": tup[0],\n",
    "                \"City\": tup[1],\n",
    "                \"Sport\": tup[2],\n",
    "                \"Discipline\": tup[3],\n",
    "                \"Athlete\": tup[4],\n",
    "                \"Country\": tup[5],\n",
    "                \"Gender\": tup[6],\n",
    "                \"Event\": tup[7],\n",
    "                \"Medal\": tup[8]\n",
    "            }\n",
    "        else:\n",
    "            obj = tup # In the event that the input is already a dictionary\n",
    "#         sports_has_AthleteMedal(obj)\n",
    "        insert_Sports(obj)\n",
    "        insert_AthleteEvent(obj)\n",
    "        insert_AthleteCountry(obj)\n",
    "        insert_AthleteMedal(obj)\n",
    "        insert_CityYear(obj)\n",
    "\n",
    "        \n",
    "def delete(conn, tup):\n",
    "    # Tup (Athlete, Event, Year, Medal)\n",
    "    # Deletion needs to remove medalist and athlete from the dataset\n",
    "    \n",
    "    conn.execute(f\"\"\"\n",
    "        DELETE FROM AthleteMedal\n",
    "        WHERE Athlete = '{tup[0]}' AND Event = '{tup[1]}' AND Year = {tup[2]} AND Medal = '{tup[3]}';\n",
    "        \"\"\")\n",
    "   \n",
    "\n",
    "def update_Medal(conn, Athlete, Year, Event, oldMedal, newMedal):\n",
    "    # Retroactive changes are only to medals?\n",
    "    if newMedal == None or newMedal == \"None\" or newMedal == \"none\":\n",
    "        delete(conn, (Athlete, Event, Year, oldMedal))\n",
    "    else:\n",
    "        conn.execute(f\"\"\"\n",
    "            UPDATE AthleteMedal\n",
    "            SET Medal = '{newMedal}'\n",
    "            WHERE Athlete = '{Athlete}' AND Year = {Year} AND Event = '{Event}' AND Medal = '{oldMedal}';\n",
    "        \"\"\")\n",
    "def name_change(conn, Athlete, newName):\n",
    "    conn.execute(f\"\"\"\n",
    "        Update AthleteCountry\n",
    "        SET Athlete = '{newName}'\n",
    "        WHERE Athlete = '{Athlete}';\n",
    "    \"\"\")"
   ]
  },
  {
   "cell_type": "markdown",
   "id": "627701e6-cffb-499d-9f54-bfac5257bd07",
   "metadata": {},
   "source": [
    "#### Triggers"
   ]
  },
  {
   "cell_type": "code",
   "execution_count": 26,
   "id": "5f70a4ce-a0e8-4ea6-a715-ce12e9435298",
   "metadata": {},
   "outputs": [
    {
     "data": {
      "text/plain": [
       "<sqlite3.Cursor at 0x7fc9534df180>"
      ]
     },
     "execution_count": 26,
     "metadata": {},
     "output_type": "execute_result"
    }
   ],
   "source": [
    "conn.execute(\"DROP TRIGGER IF EXISTS bef_athlete_medal_del;\")\n",
    "conn.execute(\"\"\"\n",
    "CREATE TRIGGER bef_athlete_medal_del BEFORE DELETE ON AthleteMedal\n",
    "BEGIN\n",
    "\n",
    "DELETE FROM AthleteCountry\n",
    "        Where AthleteCountry.Athlete = OLD.Athlete AND AthleteCountry.Event = OLD.Event \n",
    "        AND AthleteCountry.Year = OLD.Year;\n",
    "\n",
    "DELETE FROM AthleteEvent\n",
    "        Where AthleteEvent.Athlete = OLD.Athlete AND AthleteEvent.Event = OLD.Event;\n",
    "\n",
    "\n",
    "END;\"\"\")\n",
    "\n",
    "conn.execute(\"DROP TRIGGER IF EXISTS athlete_name_change;\")\n",
    "\n",
    "conn.execute(\"\"\"\n",
    "CREATE TRIGGER athlete_name_change AFTER UPDATE OF Athlete ON AthleteCountry\n",
    "\n",
    "\n",
    "\n",
    "BEGIN\n",
    "\n",
    "Update AthleteMedal\n",
    "SET Athlete = NEW.Athlete\n",
    "WHERE Athlete = OLD.Athlete;\n",
    "\n",
    "\n",
    "Update AthleteEvent\n",
    "SET Athlete = NEW.Athlete\n",
    "WHERE Athlete = OLD.Athlete;\n",
    "\n",
    "\n",
    "END;\"\"\")"
   ]
  },
  {
   "cell_type": "markdown",
   "id": "3c7186de-4aa5-4f87-89ec-7e24025470c6",
   "metadata": {},
   "source": [
    "### Testing Insert, Delete and Update"
   ]
  },
  {
   "cell_type": "markdown",
   "id": "2e006a25-50c6-46ab-b1b3-b4c31db900db",
   "metadata": {},
   "source": [
    "#### Fictional Athlete wins olympic coding event 2 years in a row"
   ]
  },
  {
   "cell_type": "code",
   "execution_count": 27,
   "id": "643fec4f-7388-4711-ba48-2a37f8feb235",
   "metadata": {},
   "outputs": [],
   "source": [
    "insert_new(conn, {\"Athlete\":\"Fictional Athlete\",\n",
    "                  \"Event\":\"Coding\",\n",
    "                  \"Year\":2024,\n",
    "                  \"Discipline\":\"Computer Science\",\n",
    "                  \"Sport\": \"Software Engineering\",\n",
    "                  \"Country\": \"USA\",\n",
    "                  \"Gender\":\"Male\",\n",
    "                  \"City\":\"Los Angeles\",\n",
    "                  \"Medal\":\"Gold\"\n",
    "                 })\n",
    "insert_new(conn, {\"Athlete\":\"Fictional Athlete\",\n",
    "                  \"Event\":\"Coding\",\n",
    "                  \"Year\":2028,\n",
    "                  \"Discipline\":\"Computer Science\",\n",
    "                  \"Sport\": \"Software Engineering\",\n",
    "                  \"Country\": \"USA\",\n",
    "                  \"Gender\":\"Male\",\n",
    "                  \"City\":\"Los Angeles\",\n",
    "                  \"Medal\":\"Gold\"\n",
    "                 })"
   ]
  },
  {
   "cell_type": "code",
   "execution_count": 28,
   "id": "3388f3e2-a7a8-4866-99d5-c8049b1bb722",
   "metadata": {},
   "outputs": [
    {
     "data": {
      "text/plain": [
       "[('Fictional Athlete', 'Coding', 2024, 'Computer Science', 'Gold'),\n",
       " ('Fictional Athlete', 'Coding', 2028, 'Computer Science', 'Gold')]"
      ]
     },
     "execution_count": 28,
     "metadata": {},
     "output_type": "execute_result"
    }
   ],
   "source": [
    "conn.execute(\"Select * from AthleteMedal Where Athlete ='Fictional Athlete';\").fetchall()"
   ]
  },
  {
   "cell_type": "code",
   "execution_count": 29,
   "id": "d2fb2b5a-3092-4f34-af2c-317f77115d22",
   "metadata": {},
   "outputs": [
    {
     "data": {
      "text/plain": [
       "[('Fictional Athlete', 'Coding', 2024, 'USA'),\n",
       " ('Fictional Athlete', 'Coding', 2028, 'USA')]"
      ]
     },
     "execution_count": 29,
     "metadata": {},
     "output_type": "execute_result"
    }
   ],
   "source": [
    "conn.execute(\"Select * From AthleteCountry Where Athlete = 'Fictional Athlete';\").fetchall()"
   ]
  },
  {
   "cell_type": "code",
   "execution_count": 30,
   "id": "6bf129af-3b93-498c-a546-6992f8a0fa59",
   "metadata": {},
   "outputs": [
    {
     "data": {
      "text/plain": [
       "[('Fictional Athlete', 'Coding', 'Male')]"
      ]
     },
     "execution_count": 30,
     "metadata": {},
     "output_type": "execute_result"
    }
   ],
   "source": [
    "conn.execute(\"Select * From AthleteEvent Where Athlete = 'Fictional Athlete';\").fetchall()"
   ]
  },
  {
   "cell_type": "code",
   "execution_count": 31,
   "id": "e4ddb6b9-f96a-45fc-9e38-8e2ed8a874ad",
   "metadata": {},
   "outputs": [
    {
     "data": {
      "text/plain": [
       "[('PHELPS, Michael', '100M Butterfly', 2004, 'Swimming', 'Gold'),\n",
       " ('PHELPS, Michael', '100M Butterfly', 2008, 'Swimming', 'Gold'),\n",
       " ('PHELPS, Michael', '100M Butterfly', 2012, 'Swimming', 'Gold'),\n",
       " ('PHELPS, Michael', '200M Butterfly', 2004, 'Swimming', 'Gold'),\n",
       " ('PHELPS, Michael', '200M Butterfly', 2008, 'Swimming', 'Gold'),\n",
       " ('PHELPS, Michael', '200M Butterfly', 2012, 'Swimming', 'Silver'),\n",
       " ('PHELPS, Michael', '200M Freestyle', 2004, 'Swimming', 'Bronze'),\n",
       " ('PHELPS, Michael', '200M Freestyle', 2008, 'Swimming', 'Gold'),\n",
       " ('PHELPS, Michael', '200M Individual Medley', 2004, 'Swimming', 'Gold'),\n",
       " ('PHELPS, Michael', '200M Individual Medley', 2008, 'Swimming', 'Gold'),\n",
       " ('PHELPS, Michael', '200M Medley', 2012, 'Swimming', 'Gold'),\n",
       " ('PHELPS, Michael', '400M Individual Medley', 2004, 'Swimming', 'Gold'),\n",
       " ('PHELPS, Michael', '400M Individual Medley', 2008, 'Swimming', 'Gold'),\n",
       " ('PHELPS, Michael', '4X100M Freestyle', 2012, 'Swimming', 'Silver'),\n",
       " ('PHELPS, Michael', '4X100M Freestyle Relay', 2004, 'Swimming', 'Bronze'),\n",
       " ('PHELPS, Michael', '4X100M Freestyle Relay', 2008, 'Swimming', 'Gold'),\n",
       " ('PHELPS, Michael', '4X100M Medley', 2012, 'Swimming', 'Gold'),\n",
       " ('PHELPS, Michael', '4X100M Medley Relay', 2004, 'Swimming', 'Gold'),\n",
       " ('PHELPS, Michael', '4X100M Medley Relay', 2008, 'Swimming', 'Gold'),\n",
       " ('PHELPS, Michael', '4X200M Freestyle', 2012, 'Swimming', 'Gold'),\n",
       " ('PHELPS, Michael', '4X200M Freestyle Relay', 2004, 'Swimming', 'Gold'),\n",
       " ('PHELPS, Michael', '4X200M Freestyle Relay', 2008, 'Swimming', 'Gold')]"
      ]
     },
     "execution_count": 31,
     "metadata": {},
     "output_type": "execute_result"
    }
   ],
   "source": [
    "conn.execute(\"Select * from AthleteMedal Where Athlete ='PHELPS, Michael';\").fetchall()"
   ]
  },
  {
   "cell_type": "markdown",
   "id": "d9cb2a03-d69b-48f6-a402-2d3a8ec30598",
   "metadata": {},
   "source": [
    "#### Above example suggests insertion function works ok"
   ]
  },
  {
   "cell_type": "code",
   "execution_count": 32,
   "id": "905007c7-2aa9-46be-8b29-959eed3017b4",
   "metadata": {},
   "outputs": [],
   "source": [
    "# Note the flexibility of the insert function to take a tuple or a dictionary as input\n",
    "insert_new(conn, (2024, \"Boulder\", \"Coding\", \"Computer Science\", \"Coder McCode\", \"USA\", \"Male\", \"Coding\", \"Bronze\"))"
   ]
  },
  {
   "cell_type": "code",
   "execution_count": 33,
   "id": "c0a8ed96-9e3a-4b2e-85f6-b0621251ca56",
   "metadata": {},
   "outputs": [
    {
     "data": {
      "text/plain": [
       "[('Coder McCode', 'Coding', 'Male')]"
      ]
     },
     "execution_count": 33,
     "metadata": {},
     "output_type": "execute_result"
    }
   ],
   "source": [
    "conn.execute(\"Select * From AthleteEvent Where Athlete = 'Coder McCode';\").fetchall()"
   ]
  },
  {
   "cell_type": "code",
   "execution_count": 34,
   "id": "85e1ea03-2bc3-4f5f-a52c-1198177be12b",
   "metadata": {},
   "outputs": [],
   "source": [
    "name_change(conn, \"Coder McCode\", \"Cody Coder\")"
   ]
  },
  {
   "cell_type": "code",
   "execution_count": 35,
   "id": "b40025f4-6b40-4537-b49f-4857dd9c35fe",
   "metadata": {},
   "outputs": [
    {
     "data": {
      "text/plain": [
       "[('Coding', 'Computer Science')]"
      ]
     },
     "execution_count": 35,
     "metadata": {},
     "output_type": "execute_result"
    }
   ],
   "source": [
    "conn.execute(\"Select * From Sports Where Sport = 'Coding';\").fetchall()"
   ]
  },
  {
   "cell_type": "code",
   "execution_count": 36,
   "id": "052f0a18-c8e7-425f-9eb3-3d8491249ab1",
   "metadata": {},
   "outputs": [
    {
     "data": {
      "text/plain": [
       "[('Cody Coder', 'Coding', 2024, 'USA')]"
      ]
     },
     "execution_count": 36,
     "metadata": {},
     "output_type": "execute_result"
    }
   ],
   "source": [
    "conn.execute(\"Select * From AthleteCountry Where Athlete = 'Cody Coder';\").fetchall()"
   ]
  },
  {
   "cell_type": "code",
   "execution_count": 37,
   "id": "f3c13542-86d9-4b26-8ca6-bb595b36b193",
   "metadata": {},
   "outputs": [
    {
     "data": {
      "text/plain": [
       "[('Cody Coder', 'Coding', 2024, 'Computer Science', 'Bronze')]"
      ]
     },
     "execution_count": 37,
     "metadata": {},
     "output_type": "execute_result"
    }
   ],
   "source": [
    "conn.execute(\"Select * From AthleteMedal Where Athlete = 'Cody Coder';\").fetchall()"
   ]
  },
  {
   "cell_type": "code",
   "execution_count": 38,
   "id": "e24aabf4-494c-4d47-b477-b3b94daaf186",
   "metadata": {},
   "outputs": [
    {
     "data": {
      "text/plain": [
       "[('Fictional Athlete', 'Coding', 2024, 'Computer Science', 'Gold'),\n",
       " ('Fictional Athlete', 'Coding', 2028, 'Computer Science', 'Gold'),\n",
       " ('Cody Coder', 'Coding', 2024, 'Computer Science', 'Bronze')]"
      ]
     },
     "execution_count": 38,
     "metadata": {},
     "output_type": "execute_result"
    }
   ],
   "source": [
    "conn.execute(\"Select * From AthleteMedal Where Discipline = 'Computer Science';\").fetchall()"
   ]
  },
  {
   "cell_type": "code",
   "execution_count": 39,
   "id": "52f77464-c43c-40f9-ac36-e5f19e4b85bc",
   "metadata": {},
   "outputs": [
    {
     "data": {
      "text/plain": [
       "[('Cody Coder', 'Coding', 'Male')]"
      ]
     },
     "execution_count": 39,
     "metadata": {},
     "output_type": "execute_result"
    }
   ],
   "source": [
    "conn.execute(\"Select * From AthleteEvent Where Athlete = 'Cody Coder';\").fetchall()"
   ]
  },
  {
   "cell_type": "markdown",
   "id": "772951e2-9db8-4a5e-9694-efbe9aa35916",
   "metadata": {},
   "source": [
    "### The above sequence shows the cascade of a name change update to the other tables"
   ]
  },
  {
   "cell_type": "code",
   "execution_count": 40,
   "id": "b5de1dc3-f86f-4c41-9fb7-2fc2465dbe65",
   "metadata": {},
   "outputs": [],
   "source": [
    "delete(conn, (\"Cody Coder\", \"Coding\", 2024, \"Bronze\"))"
   ]
  },
  {
   "cell_type": "code",
   "execution_count": 41,
   "id": "8c865e36-50a6-4b6b-9983-128a62314ceb",
   "metadata": {},
   "outputs": [
    {
     "data": {
      "text/plain": [
       "[('Fictional Athlete', 'Coding', 2024, 'Computer Science', 'Gold'),\n",
       " ('Fictional Athlete', 'Coding', 2028, 'Computer Science', 'Gold')]"
      ]
     },
     "execution_count": 41,
     "metadata": {},
     "output_type": "execute_result"
    }
   ],
   "source": [
    "conn.execute(\"Select * From AthleteMedal Where Event = 'Coding';\").fetchall()"
   ]
  },
  {
   "cell_type": "code",
   "execution_count": 42,
   "id": "fefb47e2-38fb-48c8-b2c6-b2070d585fc5",
   "metadata": {},
   "outputs": [
    {
     "data": {
      "text/plain": [
       "[('Coding', 'Computer Science'), ('Software Engineering', 'Computer Science')]"
      ]
     },
     "execution_count": 42,
     "metadata": {},
     "output_type": "execute_result"
    }
   ],
   "source": [
    "conn.execute(\"Select * From Sports Where Discipline ='Computer Science';\").fetchall()"
   ]
  },
  {
   "cell_type": "code",
   "execution_count": 43,
   "id": "05d9ec78-9c99-49f2-a1fe-a72656f7dbc3",
   "metadata": {},
   "outputs": [
    {
     "data": {
      "text/plain": [
       "[]"
      ]
     },
     "execution_count": 43,
     "metadata": {},
     "output_type": "execute_result"
    }
   ],
   "source": [
    "conn.execute(\"Select * From AthleteMedal Where Athlete = 'Cody Coder';\").fetchall()"
   ]
  },
  {
   "cell_type": "code",
   "execution_count": 44,
   "id": "3617041c-fb37-49f5-90ec-4a8ae8c99379",
   "metadata": {},
   "outputs": [
    {
     "data": {
      "text/plain": [
       "[('Coding', 'Computer Science')]"
      ]
     },
     "execution_count": 44,
     "metadata": {},
     "output_type": "execute_result"
    }
   ],
   "source": [
    "conn.execute(\"Select * From Sports Where Sport ='Coding';\").fetchall()"
   ]
  },
  {
   "cell_type": "code",
   "execution_count": 45,
   "id": "f30025f9-d964-4435-ab67-aabd85d2b4b5",
   "metadata": {},
   "outputs": [
    {
     "data": {
      "text/plain": [
       "[]"
      ]
     },
     "execution_count": 45,
     "metadata": {},
     "output_type": "execute_result"
    }
   ],
   "source": [
    "conn.execute(\"Select * From AthleteCountry Where Athlete = 'Cody Coder';\").fetchall()"
   ]
  },
  {
   "cell_type": "markdown",
   "id": "79d5beab-644a-4ac3-8c67-7f1b9091dbdb",
   "metadata": {},
   "source": [
    "#### Above eg shows that the trigger correctly removes the athlete and cascades the result to other tables, but keeps the sport"
   ]
  },
  {
   "cell_type": "code",
   "execution_count": 46,
   "id": "3a7ada8b-928c-4aea-a94c-7c88c4303c0d",
   "metadata": {},
   "outputs": [],
   "source": [
    "insert_new(conn, (2028, \"Boulder\", \"Coding\", \"Computer Science\", \n",
    "                  \"Coder McCode\", \"USA\", \"Male\", \"Coding\", \"Gold\"))\n",
    "insert_new(conn, (2028, \"Boulder\", \"Coding\", \"Computer Science\", \n",
    "                  \"Other Coder\", \"USA\", \"Male\", \"Coding\", \"Silver\"))"
   ]
  },
  {
   "cell_type": "code",
   "execution_count": 47,
   "id": "de5cc1db-757a-4cad-948f-1691ea872402",
   "metadata": {},
   "outputs": [
    {
     "data": {
      "text/plain": [
       "[('Coder McCode', 'Coding', 2028, 'Computer Science', 'Gold')]"
      ]
     },
     "execution_count": 47,
     "metadata": {},
     "output_type": "execute_result"
    }
   ],
   "source": [
    "conn.execute(\"Select * From AthleteMedal Where Athlete='Coder McCode';\").fetchall()"
   ]
  },
  {
   "cell_type": "markdown",
   "id": "e39e9c66-9c45-45cc-8bba-8b1416a9f463",
   "metadata": {},
   "source": [
    "* Lets say we strip Coder of his medal for using steroids"
   ]
  },
  {
   "cell_type": "code",
   "execution_count": 48,
   "id": "e1c58c84-3e6f-46eb-aca0-60a3c8c2d444",
   "metadata": {},
   "outputs": [],
   "source": [
    "\n",
    "update_Medal(conn, 'Coder McCode', 2028, 'Coding', 'Gold', None)"
   ]
  },
  {
   "cell_type": "code",
   "execution_count": 49,
   "id": "f13ff442-6dde-4897-9fe8-7cb17bbe30b1",
   "metadata": {},
   "outputs": [
    {
     "data": {
      "text/plain": [
       "[]"
      ]
     },
     "execution_count": 49,
     "metadata": {},
     "output_type": "execute_result"
    }
   ],
   "source": [
    "conn.execute(\"Select * From AthleteMedal Where Athlete='Coder McCode';\").fetchall()"
   ]
  },
  {
   "cell_type": "code",
   "execution_count": 50,
   "id": "2f66a292-059a-4de3-84a3-48497b29f888",
   "metadata": {},
   "outputs": [
    {
     "data": {
      "text/plain": [
       "[]"
      ]
     },
     "execution_count": 50,
     "metadata": {},
     "output_type": "execute_result"
    }
   ],
   "source": [
    "conn.execute(\"Select * From AthleteCountry Where Athlete='Coder McCode';\").fetchall()"
   ]
  },
  {
   "cell_type": "code",
   "execution_count": 51,
   "id": "250bfedd-0f48-4090-bed3-337f957dc275",
   "metadata": {},
   "outputs": [
    {
     "data": {
      "text/plain": [
       "[]"
      ]
     },
     "execution_count": 51,
     "metadata": {},
     "output_type": "execute_result"
    }
   ],
   "source": [
    "conn.execute(\"Select * From AthleteEvent Where Athlete='Coder McCode';\").fetchall()"
   ]
  },
  {
   "cell_type": "code",
   "execution_count": 52,
   "id": "c3256593-d880-43c2-b311-14b591096335",
   "metadata": {},
   "outputs": [
    {
     "data": {
      "text/plain": [
       "[('Other Coder', 'Coding', 2028, 'Computer Science', 'Silver')]"
      ]
     },
     "execution_count": 52,
     "metadata": {},
     "output_type": "execute_result"
    }
   ],
   "source": [
    "conn.execute(\"Select * From AthleteMedal Where Athlete = 'Other Coder';\").fetchall()"
   ]
  },
  {
   "cell_type": "markdown",
   "id": "a6dfafa5-99e8-42fc-8dfc-99665918be48",
   "metadata": {},
   "source": [
    "#### now we promote Other Coder to Gold from Silver"
   ]
  },
  {
   "cell_type": "code",
   "execution_count": 53,
   "id": "6944cd3e-0324-4f1e-ba01-00a53728d092",
   "metadata": {},
   "outputs": [],
   "source": [
    "# now we promote Other Coder to Gold from Silver\n",
    "# conn, Athlete, Year, Event, oldMedal, newMedal\n",
    "update_Medal(conn, \"Other Coder\", 2028, \"Coding\", \"Silver\", \"Gold\")"
   ]
  },
  {
   "cell_type": "code",
   "execution_count": 54,
   "id": "bcef3320-e4b5-4863-8c3e-4c029c140fca",
   "metadata": {},
   "outputs": [
    {
     "data": {
      "text/plain": [
       "[('Other Coder', 'Coding', 2028, 'Computer Science', 'Gold')]"
      ]
     },
     "execution_count": 54,
     "metadata": {},
     "output_type": "execute_result"
    }
   ],
   "source": [
    "conn.execute(\"Select * From AthleteMedal Where Athlete = 'Other Coder';\").fetchall()"
   ]
  },
  {
   "cell_type": "markdown",
   "id": "7278e607-3cf5-4379-a474-ee4763fcd677",
   "metadata": {},
   "source": [
    "### Creating Some Indexes"
   ]
  },
  {
   "cell_type": "code",
   "execution_count": 55,
   "id": "00d05efe-7ca9-459b-8e68-d288d07835b6",
   "metadata": {},
   "outputs": [
    {
     "name": "stdout",
     "output_type": "stream",
     "text": [
      "BEFORE INDEXES:\n",
      "Time taken: 0.01559748500585556\n",
      "Time taken: 0.0004310780204832554\n"
     ]
    }
   ],
   "source": [
    "import time\n",
    "\n",
    "conn.execute(\"\"\"Drop Index if exists AthleteMedalIndex;\"\"\")\n",
    "conn.execute(\"\"\"Drop Index if exists AthleteEventIndex;\"\"\")\n",
    "\n",
    "print(\"BEFORE INDEXES:\")\n",
    "start = time.perf_counter()\n",
    "conn.execute(\"\"\"\n",
    "Select * From AthleteMedal group by Athlete, Event, Medal;\n",
    "\"\"\")\n",
    "end = time.perf_counter()\n",
    "time_taken = end - start\n",
    "print(\"Time taken:\", time_taken)\n",
    "\n",
    "start = time.perf_counter()\n",
    "conn.execute(\"\"\"\n",
    "Select * From AthleteEvent group by Athlete, Event;\n",
    "\"\"\")\n",
    "\n",
    "end = time.perf_counter()\n",
    "time_taken = end - start\n",
    "print(\"Time taken:\", time_taken)"
   ]
  },
  {
   "cell_type": "code",
   "execution_count": 56,
   "id": "66600082-b702-4f35-a65a-11708e944ec2",
   "metadata": {},
   "outputs": [
    {
     "name": "stdout",
     "output_type": "stream",
     "text": [
      "AFTER INDEXES\n",
      "Time taken: 0.00016246899031102657\n",
      "Time taken: 0.0005692869890481234\n"
     ]
    }
   ],
   "source": [
    "print(\"AFTER INDEXES\")\n",
    "conn.execute(\"\"\"\n",
    "Create index AthleteMedalIndex on AthleteMedal (Athlete, Event, Medal);\n",
    "\"\"\").fetchall()\n",
    "conn.execute(\"\"\"\n",
    "Create index AthleteEventIndex on AthleteEvent (Athlete, Event);\n",
    "\"\"\").fetchall()\n",
    "\n",
    "\n",
    "start = time.perf_counter()\n",
    "conn.execute(\"\"\"\n",
    "Select * From AthleteMedal group by Athlete, Event, Medal;\n",
    "\"\"\")\n",
    "end = time.perf_counter()\n",
    "time_taken = end - start\n",
    "print(\"Time taken:\", time_taken)\n",
    "\n",
    "start = time.perf_counter()\n",
    "conn.execute(\"\"\"\n",
    "Select * From AthleteEvent group by Athlete, Event;\n",
    "\"\"\")\n",
    "\n",
    "end = time.perf_counter()\n",
    "time_taken = end - start\n",
    "print(\"Time taken:\", time_taken)"
   ]
  },
  {
   "cell_type": "markdown",
   "id": "3e284ce2-8a6c-4790-b2a5-380a1e838b41",
   "metadata": {},
   "source": [
    "* Note the speedup provided by the indexes"
   ]
  },
  {
   "cell_type": "markdown",
   "id": "30c77788-1d53-4196-ac09-b934a607d509",
   "metadata": {},
   "source": [
    "### Grouping and Joining to answer queries about;\n",
    "* Which countries have most medals?\n",
    "* Which athletes have most medals?"
   ]
  },
  {
   "cell_type": "code",
   "execution_count": 57,
   "id": "9e2b2ce4-7fc6-4869-aae6-aa9f29d5f94f",
   "metadata": {},
   "outputs": [
    {
     "data": {
      "text/plain": [
       "[('HAJOS, Alfred',\n",
       "  '100M Freestyle',\n",
       "  'Men',\n",
       "  1896,\n",
       "  'Swimming',\n",
       "  'Gold',\n",
       "  'Athens',\n",
       "  'HUN',\n",
       "  'Aquatics'),\n",
       " ('HERSCHMANN, Otto',\n",
       "  '100M Freestyle',\n",
       "  'Men',\n",
       "  1896,\n",
       "  'Swimming',\n",
       "  'Silver',\n",
       "  'Athens',\n",
       "  'AUT',\n",
       "  'Aquatics'),\n",
       " ('DRIVAS, Dimitrios',\n",
       "  '100M Freestyle For Sailors',\n",
       "  'Men',\n",
       "  1896,\n",
       "  'Swimming',\n",
       "  'Bronze',\n",
       "  'Athens',\n",
       "  'GRE',\n",
       "  'Aquatics')]"
      ]
     },
     "execution_count": 57,
     "metadata": {},
     "output_type": "execute_result"
    }
   ],
   "source": [
    "# Using the below funcion to display the flat form like in the csv\n",
    "display_flat_form(conn, limit=3)"
   ]
  },
  {
   "cell_type": "code",
   "execution_count": 58,
   "id": "46cfb31c-ac72-4495-9e12-6d565179f1d0",
   "metadata": {},
   "outputs": [
    {
     "data": {
      "text/plain": [
       "[('USA', 5970),\n",
       " ('URS', 2971),\n",
       " ('GBR', 2049),\n",
       " ('ITA', 1996),\n",
       " ('HUN', 1795),\n",
       " ('GER', 1794),\n",
       " ('FRA', 1774),\n",
       " ('AUS', 1700),\n",
       " ('SWE', 1364),\n",
       " ('NED', 1178)]"
      ]
     },
     "execution_count": 58,
     "metadata": {},
     "output_type": "execute_result"
    }
   ],
   "source": [
    "# Country and medal Count pairs\n",
    "conn.execute(\"\"\"\n",
    "    Select Country, Count(Medal) From (Select * From AthleteMedal Join AthleteCountry ON AthleteMedal.Athlete = AthleteCountry.Athlete \n",
    "    AND AthleteMedal.Event = AthleteCountry.Event) Group By Country\n",
    "    Order by Count(Medal) Desc Limit 10;\n",
    "\"\"\").fetchall()"
   ]
  },
  {
   "cell_type": "code",
   "execution_count": 59,
   "id": "6cb63186-948a-47c1-a64d-d507e69b4ec3",
   "metadata": {},
   "outputs": [
    {
     "data": {
      "text/plain": [
       "[('USA', 3072),\n",
       " ('URS', 1289),\n",
       " ('HUN', 795),\n",
       " ('ITA', 754),\n",
       " ('GER', 675),\n",
       " ('GBR', 674),\n",
       " ('FRA', 566),\n",
       " ('AUS', 446),\n",
       " ('SWE', 445),\n",
       " ('GDR', 439)]"
      ]
     },
     "execution_count": 59,
     "metadata": {},
     "output_type": "execute_result"
    }
   ],
   "source": [
    "# Same thing but for gold medals\n",
    "conn.execute(\"\"\"\n",
    "    Select Country, Count(Medal) From (Select * From AthleteMedal Join AthleteCountry ON AthleteMedal.Athlete = AthleteCountry.Athlete \n",
    "    AND AthleteMedal.Event = AthleteCountry.Event\n",
    "    Where Medal = 'Gold') Group By Country\n",
    "    Order by Count(Medal) Desc Limit 10;\n",
    "\"\"\").fetchall()"
   ]
  },
  {
   "cell_type": "code",
   "execution_count": 60,
   "id": "2c9bd631-85d0-41eb-ac40-c65b9309a18b",
   "metadata": {},
   "outputs": [
    {
     "data": {
      "text/plain": [
       "[('PHELPS, Michael', 22, 'Swimming'),\n",
       " ('LATYNINA, Larisa', 18, 'Artistic G.'),\n",
       " ('ANDRIANOV, Nikolay', 15, 'Artistic G.'),\n",
       " ('MANGIAROTTI, Edoardo', 13, 'Fencing'),\n",
       " ('ONO, Takashi', 13, 'Artistic G.'),\n",
       " ('SHAKHLIN, Boris', 13, 'Artistic G.'),\n",
       " ('COUGHLIN, Natalie', 12, 'Swimming'),\n",
       " ('FISCHER, Birgit', 12, 'Canoe / Kayak F'),\n",
       " ('KATO, Sawao', 12, 'Artistic G.'),\n",
       " ('NEMOV, Alexei', 12, 'Artistic G.')]"
      ]
     },
     "execution_count": 60,
     "metadata": {},
     "output_type": "execute_result"
    }
   ],
   "source": [
    "# Ten most successful olympians\n",
    "conn.execute(\"\"\"\n",
    "Select Athlete, Count(Athlete), Discipline From (Select * From AthleteMedal as am Join Sports On am.Discipline = Sports.Discipline) Group by Athlete\n",
    "Order By Count(Athlete) Desc Limit 10;\n",
    "\"\"\").fetchall()"
   ]
  },
  {
   "cell_type": "markdown",
   "id": "6039929b-e52d-46e5-9676-862afabb3e2e",
   "metadata": {},
   "source": [
    "### Conlcuding discussion\n",
    "* We saw an algorithm that results in creating a normalized schema for the database.\n",
    "* We have seen from the series of queries and function calls above that insertion, deletion and updates properly result in cascades and trigger calls. \n",
    "* We have also seen how the database provides an interface for performing queries that join and group the data to answer questions pertaining to sports statistics, which was one of the main goals."
   ]
  },
  {
   "cell_type": "code",
   "execution_count": null,
   "id": "7ef4c22d-aec0-431c-a825-5d2da0361876",
   "metadata": {},
   "outputs": [],
   "source": []
  }
 ],
 "metadata": {
  "kernelspec": {
   "display_name": "Python 3 (ipykernel)",
   "language": "python",
   "name": "python3"
  },
  "language_info": {
   "codemirror_mode": {
    "name": "ipython",
    "version": 3
   },
   "file_extension": ".py",
   "mimetype": "text/x-python",
   "name": "python",
   "nbconvert_exporter": "python",
   "pygments_lexer": "ipython3",
   "version": "3.9.6"
  }
 },
 "nbformat": 4,
 "nbformat_minor": 5
}
