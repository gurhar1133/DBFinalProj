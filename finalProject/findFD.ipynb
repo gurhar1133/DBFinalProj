{
 "cells": [
  {
   "cell_type": "code",
   "execution_count": 1,
   "id": "third-greeting",
   "metadata": {},
   "outputs": [],
   "source": [
    "import numpy as np\n",
    "\n",
    "import pandas as pd"
   ]
  },
  {
   "cell_type": "markdown",
   "id": "accessible-memphis",
   "metadata": {},
   "source": []
  },
  {
   "cell_type": "code",
   "execution_count": 2,
   "id": "honest-window",
   "metadata": {},
   "outputs": [
    {
     "data": {
      "text/html": [
       "<div>\n",
       "<style scoped>\n",
       "    .dataframe tbody tr th:only-of-type {\n",
       "        vertical-align: middle;\n",
       "    }\n",
       "\n",
       "    .dataframe tbody tr th {\n",
       "        vertical-align: top;\n",
       "    }\n",
       "\n",
       "    .dataframe thead th {\n",
       "        text-align: right;\n",
       "    }\n",
       "</style>\n",
       "<table border=\"1\" class=\"dataframe\">\n",
       "  <thead>\n",
       "    <tr style=\"text-align: right;\">\n",
       "      <th></th>\n",
       "      <th>Year</th>\n",
       "      <th>City</th>\n",
       "      <th>Sport</th>\n",
       "      <th>Discipline</th>\n",
       "      <th>Athlete</th>\n",
       "      <th>Country</th>\n",
       "      <th>Gender</th>\n",
       "      <th>Event</th>\n",
       "      <th>Medal</th>\n",
       "    </tr>\n",
       "  </thead>\n",
       "  <tbody>\n",
       "    <tr>\n",
       "      <th>0</th>\n",
       "      <td>1896</td>\n",
       "      <td>Athens</td>\n",
       "      <td>Aquatics</td>\n",
       "      <td>Swimming</td>\n",
       "      <td>HAJOS, Alfred</td>\n",
       "      <td>HUN</td>\n",
       "      <td>Men</td>\n",
       "      <td>100M Freestyle</td>\n",
       "      <td>Gold</td>\n",
       "    </tr>\n",
       "    <tr>\n",
       "      <th>1</th>\n",
       "      <td>1896</td>\n",
       "      <td>Athens</td>\n",
       "      <td>Aquatics</td>\n",
       "      <td>Swimming</td>\n",
       "      <td>HERSCHMANN, Otto</td>\n",
       "      <td>AUT</td>\n",
       "      <td>Men</td>\n",
       "      <td>100M Freestyle</td>\n",
       "      <td>Silver</td>\n",
       "    </tr>\n",
       "    <tr>\n",
       "      <th>2</th>\n",
       "      <td>1896</td>\n",
       "      <td>Athens</td>\n",
       "      <td>Aquatics</td>\n",
       "      <td>Swimming</td>\n",
       "      <td>DRIVAS, Dimitrios</td>\n",
       "      <td>GRE</td>\n",
       "      <td>Men</td>\n",
       "      <td>100M Freestyle For Sailors</td>\n",
       "      <td>Bronze</td>\n",
       "    </tr>\n",
       "    <tr>\n",
       "      <th>3</th>\n",
       "      <td>1896</td>\n",
       "      <td>Athens</td>\n",
       "      <td>Aquatics</td>\n",
       "      <td>Swimming</td>\n",
       "      <td>MALOKINIS, Ioannis</td>\n",
       "      <td>GRE</td>\n",
       "      <td>Men</td>\n",
       "      <td>100M Freestyle For Sailors</td>\n",
       "      <td>Gold</td>\n",
       "    </tr>\n",
       "    <tr>\n",
       "      <th>4</th>\n",
       "      <td>1896</td>\n",
       "      <td>Athens</td>\n",
       "      <td>Aquatics</td>\n",
       "      <td>Swimming</td>\n",
       "      <td>CHASAPIS, Spiridon</td>\n",
       "      <td>GRE</td>\n",
       "      <td>Men</td>\n",
       "      <td>100M Freestyle For Sailors</td>\n",
       "      <td>Silver</td>\n",
       "    </tr>\n",
       "  </tbody>\n",
       "</table>\n",
       "</div>"
      ],
      "text/plain": [
       "   Year    City     Sport Discipline             Athlete Country Gender  \\\n",
       "0  1896  Athens  Aquatics   Swimming       HAJOS, Alfred     HUN    Men   \n",
       "1  1896  Athens  Aquatics   Swimming    HERSCHMANN, Otto     AUT    Men   \n",
       "2  1896  Athens  Aquatics   Swimming   DRIVAS, Dimitrios     GRE    Men   \n",
       "3  1896  Athens  Aquatics   Swimming  MALOKINIS, Ioannis     GRE    Men   \n",
       "4  1896  Athens  Aquatics   Swimming  CHASAPIS, Spiridon     GRE    Men   \n",
       "\n",
       "                        Event   Medal  \n",
       "0              100M Freestyle    Gold  \n",
       "1              100M Freestyle  Silver  \n",
       "2  100M Freestyle For Sailors  Bronze  \n",
       "3  100M Freestyle For Sailors    Gold  \n",
       "4  100M Freestyle For Sailors  Silver  "
      ]
     },
     "execution_count": 2,
     "metadata": {},
     "output_type": "execute_result"
    }
   ],
   "source": [
    "df = pd.read_csv(\"summer.csv\")\n",
    "df.head()"
   ]
  },
  {
   "cell_type": "code",
   "execution_count": 6,
   "id": "dutch-north",
   "metadata": {},
   "outputs": [
    {
     "data": {
      "text/plain": [
       "43"
      ]
     },
     "execution_count": 6,
     "metadata": {},
     "output_type": "execute_result"
    }
   ],
   "source": [
    "len(df.Sport.unique())"
   ]
  },
  {
   "cell_type": "code",
   "execution_count": 5,
   "id": "extra-michigan",
   "metadata": {},
   "outputs": [
    {
     "data": {
      "text/plain": [
       "67"
      ]
     },
     "execution_count": 5,
     "metadata": {},
     "output_type": "execute_result"
    }
   ],
   "source": [
    "len(df.Discipline.unique())"
   ]
  },
  {
   "cell_type": "code",
   "execution_count": 80,
   "id": "removed-congress",
   "metadata": {},
   "outputs": [],
   "source": [
    "# df[['City', 'Sport', 'Discipline']].value_counts().index.values\\"
   ]
  },
  {
   "cell_type": "code",
   "execution_count": 68,
   "id": "prepared-newcastle",
   "metadata": {},
   "outputs": [
    {
     "name": "stdout",
     "output_type": "stream",
     "text": [
      "820        Boxing\n",
      "821        Boxing\n",
      "822        Boxing\n",
      "1115    Wrestling\n",
      "1116    Wrestling\n",
      "1117    Wrestling\n",
      "Name: Sport, dtype: object\n",
      "^ Violation of FD rule\n"
     ]
    }
   ],
   "source": [
    "# SELECT A \n",
    "# FROM R \n",
    "# GROUP BY A \n",
    "# HAVING COUNT (DISTINCT B) > 1; \n",
    "\n",
    "for group in df.groupby(['Event', 'City'])['Sport']:\n",
    "    if len(group[1].unique()) > 1:\n",
    "        print(group[1])\n",
    "        print(\"^ Violation of FD rule\")\n",
    "        break\n"
   ]
  },
  {
   "cell_type": "code",
   "execution_count": 4,
   "id": "smoking-motorcycle",
   "metadata": {},
   "outputs": [
    {
     "data": {
      "text/plain": [
       "{'Athlete',\n",
       " 'City',\n",
       " 'Country',\n",
       " 'Discipline',\n",
       " 'Event',\n",
       " 'Gender',\n",
       " 'Medal',\n",
       " 'Sport',\n",
       " 'Year'}"
      ]
     },
     "execution_count": 4,
     "metadata": {},
     "output_type": "execute_result"
    }
   ],
   "source": [
    "set(df.columns)"
   ]
  },
  {
   "cell_type": "code",
   "execution_count": 8,
   "id": "optimum-adjustment",
   "metadata": {},
   "outputs": [],
   "source": [
    "from itertools import chain, combinations\n",
    "\n",
    "\n",
    "def powerset(iterable):\n",
    "    # https://stackoverflow.com/questions/1482308/how-to-get-all-subsets-of-a-set-powerset\n",
    "    \"powerset([1,2,3]) --> () (1,) (2,) (3,) (1,2) (1,3) (2,3) (1,2,3)\"\n",
    "    s = list(iterable)\n",
    "    return chain.from_iterable(combinations(s, r) for r in range(len(s)+1))\n",
    "\n",
    "        \n"
   ]
  },
  {
   "cell_type": "code",
   "execution_count": 74,
   "id": "provincial-economics",
   "metadata": {},
   "outputs": [],
   "source": [
    "def check_fd(A_set, B, df):\n",
    "    # If two tuples of R agree on all of the attributes A 1 ; A2 ;::: ;An \n",
    "    # (i.e., the tuples have the same values in their respective components for each of these attributes),  \n",
    "    # then they must also agree on all of another list of attributes B 1 ; B2 ;::: ;Bm\n",
    "    \n",
    "    # For all values of A_set\n",
    "    #    check if given a value of A_set, the B is same\n",
    "    \n",
    "\n",
    "    \n",
    "    for group in df.groupby([*A_set])[B]:\n",
    "        if len(group[1].unique()) > 1:\n",
    "\n",
    "            return False\n",
    "        \n",
    "    return True\n",
    "    "
   ]
  },
  {
   "cell_type": "code",
   "execution_count": 71,
   "id": "interracial-thousand",
   "metadata": {},
   "outputs": [],
   "source": [
    "def get_all_candidates(df):\n",
    "    candidate_list = []\n",
    "    for tup in list(powerset(set(df.columns))):\n",
    "        if set(tup) not in candidate_list and len(set(tup)) > 0:\n",
    "            candidate_list.append(set(tup))\n",
    "    return candidate_list\n",
    "\n",
    "# print(get_all_candidates(df))"
   ]
  },
  {
   "cell_type": "code",
   "execution_count": 78,
   "id": "animal-range",
   "metadata": {},
   "outputs": [],
   "source": [
    "def get_all_fds(df):\n",
    "    # Rational for just checking against singleton set\n",
    "    # Bs: \"It is common for the right side of an FD to be a single attribute. \n",
    "    # In fact,  we shall see that the one functional dependency A 1 A 2 \u0001 \u0001 \u0001 A n -> B 1 B 2 \u0001 \u0001 \u0001 B m \n",
    "    # is  equivalent to the set of FD's: \n",
    "    # A 1 A 2 \u0001 \u0001 \u0001 A n -> B 1  \n",
    "    # A 1 A 2 \u0001 \u0001 \u0001 A n -> B 2  \n",
    "    # \u0001 \u0001 \u0001 \n",
    "    # A 1 A 2 \u0001 \u0001 \u0001 A n -> B\"\n",
    "    # (Database Systems the Complete Book p. 68)\n",
    "    fds = []\n",
    "    a_candidates = get_all_candidates(df)\n",
    "    b_candidates = set(df.columns)\n",
    "    print(\"required iterations = {val}\".format(val=len(a_candidates)*len(b_candidates)))\n",
    "    i = 0\n",
    "    for a_candidate in a_candidates:\n",
    "        for b_candidate in b_candidates:\n",
    "            i += 1\n",
    "            if i % 100 == 0:\n",
    "                print(i/len(a_candidates)*len(b_candidates), \"% complete\")\n",
    "            if b_candidate not in a_candidate: # this check to make sure non-trivial\n",
    "                if check_fd(a_candidate, b_candidate, df):\n",
    "                    fds.append((a_candidate, b_candidate))\n",
    "    return fds"
   ]
  },
  {
   "cell_type": "code",
   "execution_count": 79,
   "id": "functioning-integration",
   "metadata": {
    "collapsed": true,
    "jupyter": {
     "outputs_hidden": true
    },
    "tags": []
   },
   "outputs": [
    {
     "name": "stdout",
     "output_type": "stream",
     "text": [
      "required iterations = 4599\n",
      "1.761252446183953 % complete\n",
      "3.522504892367906 % complete\n",
      "5.283757338551859 % complete\n",
      "7.045009784735812 % complete\n",
      "8.806262230919765 % complete\n",
      "10.567514677103718 % complete\n",
      "12.32876712328767 % complete\n",
      "14.090019569471623 % complete\n",
      "15.851272015655576 % complete\n",
      "17.61252446183953 % complete\n",
      "19.373776908023483 % complete\n",
      "21.135029354207436 % complete\n",
      "22.89628180039139 % complete\n",
      "24.65753424657534 % complete\n",
      "26.418786692759298 % complete\n",
      "28.180039138943247 % complete\n",
      "29.941291585127203 % complete\n",
      "31.702544031311152 % complete\n",
      "33.46379647749511 % complete\n",
      "35.22504892367906 % complete\n",
      "36.986301369863014 % complete\n",
      "38.74755381604697 % complete\n",
      "40.50880626223092 % complete\n",
      "42.27005870841487 % complete\n",
      "44.03131115459883 % complete\n",
      "45.79256360078278 % complete\n",
      "47.55381604696673 % complete\n",
      "49.31506849315068 % complete\n",
      "51.07632093933464 % complete\n",
      "52.837573385518596 % complete\n",
      "54.59882583170254 % complete\n",
      "56.360078277886494 % complete\n",
      "58.121330724070454 % complete\n",
      "59.88258317025441 % complete\n",
      "61.64383561643835 % complete\n",
      "63.405088062622305 % complete\n",
      "65.16634050880626 % complete\n",
      "66.92759295499022 % complete\n",
      "68.68884540117416 % complete\n",
      "70.45009784735812 % complete\n",
      "72.21135029354207 % complete\n",
      "73.97260273972603 % complete\n",
      "75.73385518590999 % complete\n",
      "77.49510763209393 % complete\n",
      "79.2563600782779 % complete\n",
      "[({'Discipline'}, 'Sport'), ({'Year'}, 'City'), ({'Discipline', 'Gender'}, 'Sport'), ({'Discipline', 'Country'}, 'Sport'), ({'Discipline', 'Athlete'}, 'Sport'), ({'Year', 'Discipline'}, 'Sport'), ({'Year', 'Discipline'}, 'City'), ({'Discipline', 'Medal'}, 'Sport'), ({'Discipline', 'Event'}, 'Sport'), ({'Discipline', 'City'}, 'Sport'), ({'Year', 'Gender'}, 'City'), ({'Year', 'Country'}, 'City'), ({'Year', 'Athlete'}, 'City'), ({'Event', 'Athlete'}, 'Gender'), ({'Event', 'Athlete'}, 'Sport'), ({'Year', 'Medal'}, 'City'), ({'Year', 'Sport'}, 'City'), ({'Year', 'Event'}, 'City'), ({'Discipline', 'Gender', 'Country'}, 'Sport'), ({'Discipline', 'Gender', 'Athlete'}, 'Sport'), ({'Year', 'Discipline', 'Gender'}, 'Sport'), ({'Year', 'Discipline', 'Gender'}, 'City'), ({'Discipline', 'Gender', 'Medal'}, 'Sport'), ({'Discipline', 'Event', 'Gender'}, 'Sport'), ({'Discipline', 'Gender', 'City'}, 'Sport'), ({'Discipline', 'Country', 'Athlete'}, 'Gender'), ({'Discipline', 'Country', 'Athlete'}, 'Sport'), ({'Year', 'Discipline', 'Country'}, 'Sport'), ({'Year', 'Discipline', 'Country'}, 'City'), ({'Discipline', 'Country', 'Medal'}, 'Sport'), ({'Discipline', 'Event', 'Country'}, 'Sport'), ({'City', 'Discipline', 'Country'}, 'Sport'), ({'Year', 'Discipline', 'Athlete'}, 'Sport'), ({'Year', 'Discipline', 'Athlete'}, 'City'), ({'Discipline', 'Medal', 'Athlete'}, 'Gender'), ({'Discipline', 'Medal', 'Athlete'}, 'Sport'), ({'Discipline', 'Event', 'Athlete'}, 'Gender'), ({'Discipline', 'Event', 'Athlete'}, 'Sport'), ({'Discipline', 'City', 'Athlete'}, 'Sport'), ({'Year', 'Discipline', 'Medal'}, 'Sport'), ({'Year', 'Discipline', 'Medal'}, 'City'), ({'Year', 'Discipline', 'Sport'}, 'City'), ({'Year', 'Discipline', 'Event'}, 'Sport'), ({'Year', 'Discipline', 'Event'}, 'City'), ({'Year', 'Discipline', 'City'}, 'Sport'), ({'Discipline', 'Event', 'Medal'}, 'Sport'), ({'Discipline', 'City', 'Medal'}, 'Sport'), ({'Discipline', 'Event', 'City'}, 'Sport'), ({'Year', 'Gender', 'Country'}, 'City'), ({'Year', 'Gender', 'Athlete'}, 'City'), ({'Event', 'Gender', 'Athlete'}, 'Sport'), ({'Year', 'Gender', 'Medal'}, 'City'), ({'Year', 'Gender', 'Sport'}, 'City'), ({'Year', 'Event', 'Gender'}, 'City'), ({'Year', 'Country', 'Athlete'}, 'City'), ({'Sport', 'Country', 'Athlete'}, 'Gender'), ({'Event', 'Country', 'Athlete'}, 'Gender'), ({'Event', 'Country', 'Athlete'}, 'Sport'), ({'Year', 'Country', 'Medal'}, 'City'), ({'Year', 'Sport', 'Country'}, 'City'), ({'Year', 'Event', 'Country'}, 'City'), ({'Year', 'Medal', 'Athlete'}, 'City'), ({'Year', 'Sport', 'Athlete'}, 'City'), ({'Year', 'Event', 'Athlete'}, 'Gender'), ({'Year', 'Event', 'Athlete'}, 'Country'), ({'Year', 'Event', 'Athlete'}, 'Sport'), ({'Year', 'Event', 'Athlete'}, 'City'), ({'Medal', 'Sport', 'Athlete'}, 'Gender'), ({'Event', 'Medal', 'Athlete'}, 'Gender'), ({'Event', 'Medal', 'Athlete'}, 'Sport'), ({'Medal', 'City', 'Athlete'}, 'Year'), ({'Event', 'Sport', 'Athlete'}, 'Gender'), ({'Event', 'City', 'Athlete'}, 'Gender'), ({'Event', 'City', 'Athlete'}, 'Country'), ({'Event', 'City', 'Athlete'}, 'Sport'), ({'Year', 'Sport', 'Medal'}, 'City'), ({'Year', 'Event', 'Medal'}, 'City'), ({'Year', 'Event', 'Sport'}, 'City'), ({'Discipline', 'Gender', 'Country', 'Athlete'}, 'Sport'), ({'Year', 'Discipline', 'Gender', 'Country'}, 'Sport'), ({'Year', 'Discipline', 'Gender', 'Country'}, 'City'), ({'Discipline', 'Gender', 'Country', 'Medal'}, 'Sport'), ({'Discipline', 'Event', 'Gender', 'Country'}, 'Sport'), ({'City', 'Discipline', 'Gender', 'Country'}, 'Sport'), ({'Year', 'Discipline', 'Gender', 'Athlete'}, 'Sport'), ({'Year', 'Discipline', 'Gender', 'Athlete'}, 'City'), ({'Discipline', 'Gender', 'Medal', 'Athlete'}, 'Sport'), ({'Discipline', 'Event', 'Gender', 'Athlete'}, 'Sport'), ({'Discipline', 'Gender', 'City', 'Athlete'}, 'Sport'), ({'Year', 'Discipline', 'Gender', 'Medal'}, 'Sport'), ({'Year', 'Discipline', 'Gender', 'Medal'}, 'City'), ({'Year', 'Discipline', 'Gender', 'Sport'}, 'City'), ({'Year', 'Discipline', 'Event', 'Gender'}, 'Sport'), ({'Year', 'Discipline', 'Event', 'Gender'}, 'City'), ({'Year', 'Discipline', 'Gender', 'City'}, 'Sport'), ({'Discipline', 'Event', 'Gender', 'Medal'}, 'Sport'), ({'Discipline', 'Gender', 'City', 'Medal'}, 'Sport'), ({'Discipline', 'Event', 'Gender', 'City'}, 'Sport'), ({'Year', 'Discipline', 'Country', 'Athlete'}, 'Gender'), ({'Year', 'Discipline', 'Country', 'Athlete'}, 'Sport'), ({'Year', 'Discipline', 'Country', 'Athlete'}, 'City'), ({'Discipline', 'Medal', 'Country', 'Athlete'}, 'Gender'), ({'Discipline', 'Medal', 'Country', 'Athlete'}, 'Sport'), ({'Discipline', 'Sport', 'Country', 'Athlete'}, 'Gender'), ({'Discipline', 'Event', 'Country', 'Athlete'}, 'Gender'), ({'Discipline', 'Event', 'Country', 'Athlete'}, 'Sport'), ({'City', 'Discipline', 'Country', 'Athlete'}, 'Gender'), ({'City', 'Discipline', 'Country', 'Athlete'}, 'Sport'), ({'Year', 'Discipline', 'Country', 'Medal'}, 'Sport'), ({'Year', 'Discipline', 'Country', 'Medal'}, 'City'), ({'Year', 'Discipline', 'Sport', 'Country'}, 'City'), ({'Year', 'Discipline', 'Event', 'Country'}, 'Sport'), ({'Year', 'Discipline', 'Event', 'Country'}, 'City'), ({'Year', 'Discipline', 'City', 'Country'}, 'Sport'), ({'Discipline', 'Event', 'Country', 'Medal'}, 'Sport'), ({'City', 'Discipline', 'Country', 'Medal'}, 'Sport'), ({'City', 'Discipline', 'Event', 'Country'}, 'Sport'), ({'Year', 'Discipline', 'Medal', 'Athlete'}, 'Gender'), ({'Year', 'Discipline', 'Medal', 'Athlete'}, 'Sport'), ({'Year', 'Discipline', 'Medal', 'Athlete'}, 'City'), ({'Year', 'Discipline', 'Sport', 'Athlete'}, 'City'), ({'Year', 'Discipline', 'Event', 'Athlete'}, 'Gender'), ({'Year', 'Discipline', 'Event', 'Athlete'}, 'Country'), ({'Year', 'Discipline', 'Event', 'Athlete'}, 'Sport'), ({'Year', 'Discipline', 'Event', 'Athlete'}, 'City'), ({'Year', 'Discipline', 'City', 'Athlete'}, 'Sport'), ({'Discipline', 'Medal', 'Sport', 'Athlete'}, 'Gender'), ({'Discipline', 'Event', 'Medal', 'Athlete'}, 'Gender'), ({'Discipline', 'Event', 'Medal', 'Athlete'}, 'Sport'), ({'Discipline', 'Medal', 'City', 'Athlete'}, 'Gender'), ({'Discipline', 'Medal', 'City', 'Athlete'}, 'Year'), ({'Discipline', 'Medal', 'City', 'Athlete'}, 'Sport'), ({'Discipline', 'Event', 'Sport', 'Athlete'}, 'Gender'), ({'Discipline', 'Event', 'City', 'Athlete'}, 'Gender'), ({'Discipline', 'Event', 'City', 'Athlete'}, 'Country'), ({'Discipline', 'Event', 'City', 'Athlete'}, 'Sport'), ({'Year', 'Discipline', 'Sport', 'Medal'}, 'City'), ({'Year', 'Discipline', 'Event', 'Medal'}, 'Sport'), ({'Year', 'Discipline', 'Event', 'Medal'}, 'City'), ({'Year', 'Discipline', 'City', 'Medal'}, 'Sport'), ({'Year', 'Discipline', 'Event', 'Sport'}, 'City'), ({'Year', 'Discipline', 'Event', 'City'}, 'Sport'), ({'Discipline', 'Event', 'City', 'Medal'}, 'Sport'), ({'Year', 'Gender', 'Country', 'Athlete'}, 'City'), ({'Event', 'Gender', 'Country', 'Athlete'}, 'Sport'), ({'Year', 'Gender', 'Country', 'Medal'}, 'City'), ({'Year', 'Gender', 'Sport', 'Country'}, 'City'), ({'Year', 'Event', 'Gender', 'Country'}, 'City'), ({'Year', 'Gender', 'Medal', 'Athlete'}, 'City'), ({'Year', 'Gender', 'Sport', 'Athlete'}, 'City'), ({'Year', 'Event', 'Gender', 'Athlete'}, 'Country'), ({'Year', 'Event', 'Gender', 'Athlete'}, 'Sport'), ({'Year', 'Event', 'Gender', 'Athlete'}, 'City'), ({'Event', 'Gender', 'Medal', 'Athlete'}, 'Sport'), ({'Gender', 'Medal', 'City', 'Athlete'}, 'Year'), ({'Event', 'Gender', 'City', 'Athlete'}, 'Country'), ({'Event', 'Gender', 'City', 'Athlete'}, 'Sport'), ({'Year', 'Gender', 'Sport', 'Medal'}, 'City'), ({'Year', 'Event', 'Gender', 'Medal'}, 'City'), ({'Year', 'Event', 'Gender', 'Sport'}, 'City'), ({'Year', 'Medal', 'Country', 'Athlete'}, 'City'), ({'Year', 'Sport', 'Country', 'Athlete'}, 'Gender'), ({'Year', 'Sport', 'Country', 'Athlete'}, 'City'), ({'Year', 'Event', 'Country', 'Athlete'}, 'Gender'), ({'Year', 'Event', 'Country', 'Athlete'}, 'Sport'), ({'Year', 'Event', 'Country', 'Athlete'}, 'City'), ({'Medal', 'Sport', 'Country', 'Athlete'}, 'Gender'), ({'Event', 'Medal', 'Country', 'Athlete'}, 'Gender'), ({'Event', 'Medal', 'Country', 'Athlete'}, 'Sport'), ({'City', 'Medal', 'Country', 'Athlete'}, 'Year'), ({'Event', 'Sport', 'Country', 'Athlete'}, 'Gender'), ({'City', 'Sport', 'Country', 'Athlete'}, 'Gender'), ({'City', 'Event', 'Country', 'Athlete'}, 'Gender'), ({'City', 'Event', 'Country', 'Athlete'}, 'Sport'), ({'Year', 'Sport', 'Country', 'Medal'}, 'City'), ({'Year', 'Event', 'Country', 'Medal'}, 'City'), ({'Year', 'Event', 'Sport', 'Country'}, 'City'), ({'Year', 'Medal', 'Sport', 'Athlete'}, 'Gender'), ({'Year', 'Medal', 'Sport', 'Athlete'}, 'City'), ({'Year', 'Event', 'Medal', 'Athlete'}, 'Gender'), ({'Year', 'Event', 'Medal', 'Athlete'}, 'Country'), ({'Year', 'Event', 'Medal', 'Athlete'}, 'Sport'), ({'Year', 'Event', 'Medal', 'Athlete'}, 'City'), ({'Year', 'Event', 'Sport', 'Athlete'}, 'Gender'), ({'Year', 'Event', 'Sport', 'Athlete'}, 'Country'), ({'Year', 'Event', 'Sport', 'Athlete'}, 'City'), ({'Year', 'Event', 'City', 'Athlete'}, 'Gender'), ({'Year', 'Event', 'City', 'Athlete'}, 'Country'), ({'Year', 'Event', 'City', 'Athlete'}, 'Sport'), ({'Event', 'Medal', 'Sport', 'Athlete'}, 'Gender'), ({'Medal', 'Sport', 'City', 'Athlete'}, 'Gender'), ({'Medal', 'Sport', 'City', 'Athlete'}, 'Year'), ({'Event', 'Medal', 'City', 'Athlete'}, 'Gender'), ({'Event', 'Medal', 'City', 'Athlete'}, 'Country'), ({'Event', 'Medal', 'City', 'Athlete'}, 'Year'), ({'Event', 'Medal', 'City', 'Athlete'}, 'Sport'), ({'Event', 'Sport', 'City', 'Athlete'}, 'Gender'), ({'Event', 'Sport', 'City', 'Athlete'}, 'Country'), ({'Year', 'Event', 'Sport', 'Medal'}, 'City'), ({'Discipline', 'Gender', 'Country', 'Athlete', 'Year'}, 'Sport'), ({'Discipline', 'Gender', 'Country', 'Athlete', 'Year'}, 'City'), ({'Discipline', 'Gender', 'Country', 'Medal', 'Athlete'}, 'Sport'), ({'Discipline', 'Gender', 'Country', 'Athlete', 'Event'}, 'Sport'), ({'Discipline', 'Gender', 'Country', 'Athlete', 'City'}, 'Sport'), ({'Discipline', 'Gender', 'Country', 'Medal', 'Year'}, 'Sport'), ({'Discipline', 'Gender', 'Country', 'Medal', 'Year'}, 'City'), ({'Discipline', 'Gender', 'Country', 'Year', 'Sport'}, 'City'), ({'Discipline', 'Gender', 'Country', 'Year', 'Event'}, 'Sport'), ({'Discipline', 'Gender', 'Country', 'Year', 'Event'}, 'City'), ({'Discipline', 'Gender', 'Country', 'Year', 'City'}, 'Sport'), ({'Discipline', 'Gender', 'Country', 'Medal', 'Event'}, 'Sport'), ({'Discipline', 'Gender', 'Country', 'Medal', 'City'}, 'Sport'), ({'Discipline', 'Gender', 'Country', 'Event', 'City'}, 'Sport'), ({'Discipline', 'Gender', 'Medal', 'Year', 'Athlete'}, 'Sport'), ({'Discipline', 'Gender', 'Medal', 'Year', 'Athlete'}, 'City'), ({'Discipline', 'Gender', 'Athlete', 'Year', 'Sport'}, 'City'), ({'Discipline', 'Gender', 'Athlete', 'Year', 'Event'}, 'Country'), ({'Discipline', 'Gender', 'Athlete', 'Year', 'Event'}, 'Sport'), ({'Discipline', 'Gender', 'Athlete', 'Year', 'Event'}, 'City'), ({'Discipline', 'Gender', 'Athlete', 'Year', 'City'}, 'Sport'), ({'Discipline', 'Gender', 'Medal', 'Athlete', 'Event'}, 'Sport'), ({'Discipline', 'Gender', 'Medal', 'Athlete', 'City'}, 'Year'), ({'Discipline', 'Gender', 'Medal', 'Athlete', 'City'}, 'Sport'), ({'Discipline', 'Gender', 'Athlete', 'Event', 'City'}, 'Country'), ({'Discipline', 'Gender', 'Athlete', 'Event', 'City'}, 'Sport'), ({'Discipline', 'Gender', 'Medal', 'Year', 'Sport'}, 'City'), ({'Discipline', 'Gender', 'Medal', 'Year', 'Event'}, 'Sport'), ({'Discipline', 'Gender', 'Medal', 'Year', 'Event'}, 'City'), ({'Discipline', 'Gender', 'Medal', 'Year', 'City'}, 'Sport'), ({'Discipline', 'Gender', 'Year', 'Sport', 'Event'}, 'City'), ({'Discipline', 'Gender', 'Year', 'Event', 'City'}, 'Sport'), ({'Discipline', 'Gender', 'Medal', 'Event', 'City'}, 'Sport'), ({'Discipline', 'Country', 'Medal', 'Year', 'Athlete'}, 'Gender'), ({'Discipline', 'Country', 'Medal', 'Year', 'Athlete'}, 'Sport'), ({'Discipline', 'Country', 'Medal', 'Year', 'Athlete'}, 'City'), ({'Discipline', 'Country', 'Athlete', 'Year', 'Sport'}, 'Gender'), ({'Discipline', 'Country', 'Athlete', 'Year', 'Sport'}, 'City'), ({'Discipline', 'Country', 'Athlete', 'Year', 'Event'}, 'Gender'), ({'Discipline', 'Country', 'Athlete', 'Year', 'Event'}, 'Sport'), ({'Discipline', 'Country', 'Athlete', 'Year', 'Event'}, 'City'), ({'Discipline', 'Country', 'Athlete', 'Year', 'City'}, 'Gender'), ({'Discipline', 'Country', 'Athlete', 'Year', 'City'}, 'Sport'), ({'Discipline', 'Country', 'Medal', 'Athlete', 'Sport'}, 'Gender'), ({'Discipline', 'Country', 'Medal', 'Athlete', 'Event'}, 'Gender'), ({'Discipline', 'Country', 'Medal', 'Athlete', 'Event'}, 'Sport'), ({'Discipline', 'Country', 'Medal', 'Athlete', 'City'}, 'Gender'), ({'Discipline', 'Country', 'Medal', 'Athlete', 'City'}, 'Year'), ({'Discipline', 'Country', 'Medal', 'Athlete', 'City'}, 'Sport'), ({'Discipline', 'Country', 'Athlete', 'Sport', 'Event'}, 'Gender'), ({'Discipline', 'Country', 'Athlete', 'Sport', 'City'}, 'Gender'), ({'Discipline', 'Country', 'Athlete', 'Event', 'City'}, 'Gender'), ({'Discipline', 'Country', 'Athlete', 'Event', 'City'}, 'Sport'), ({'Discipline', 'Country', 'Medal', 'Year', 'Sport'}, 'City'), ({'Discipline', 'Country', 'Medal', 'Year', 'Event'}, 'Sport'), ({'Discipline', 'Country', 'Medal', 'Year', 'Event'}, 'City'), ({'Discipline', 'Country', 'Medal', 'Year', 'City'}, 'Sport'), ({'Discipline', 'Country', 'Year', 'Sport', 'Event'}, 'City'), ({'Discipline', 'Country', 'Year', 'Event', 'City'}, 'Sport'), ({'Discipline', 'Country', 'Medal', 'Event', 'City'}, 'Sport'), ({'Discipline', 'Medal', 'Year', 'Athlete', 'Sport'}, 'Gender'), ({'Discipline', 'Medal', 'Year', 'Athlete', 'Sport'}, 'City'), ({'Discipline', 'Medal', 'Year', 'Athlete', 'Event'}, 'Gender'), ({'Discipline', 'Medal', 'Year', 'Athlete', 'Event'}, 'Country'), ({'Discipline', 'Medal', 'Year', 'Athlete', 'Event'}, 'Sport'), ({'Discipline', 'Medal', 'Year', 'Athlete', 'Event'}, 'City'), ({'Discipline', 'Medal', 'Year', 'Athlete', 'City'}, 'Gender'), ({'Discipline', 'Medal', 'Year', 'Athlete', 'City'}, 'Sport'), ({'Discipline', 'Athlete', 'Year', 'Sport', 'Event'}, 'Gender'), ({'Discipline', 'Athlete', 'Year', 'Sport', 'Event'}, 'Country'), ({'Discipline', 'Athlete', 'Year', 'Sport', 'Event'}, 'City'), ({'Discipline', 'Athlete', 'Year', 'Event', 'City'}, 'Gender'), ({'Discipline', 'Athlete', 'Year', 'Event', 'City'}, 'Country'), ({'Discipline', 'Athlete', 'Year', 'Event', 'City'}, 'Sport'), ({'Discipline', 'Medal', 'Athlete', 'Sport', 'Event'}, 'Gender'), ({'Discipline', 'Medal', 'Athlete', 'Sport', 'City'}, 'Gender'), ({'Discipline', 'Medal', 'Athlete', 'Sport', 'City'}, 'Year'), ({'Discipline', 'Medal', 'Athlete', 'Event', 'City'}, 'Gender'), ({'Discipline', 'Medal', 'Athlete', 'Event', 'City'}, 'Country'), ({'Discipline', 'Medal', 'Athlete', 'Event', 'City'}, 'Year'), ({'Discipline', 'Medal', 'Athlete', 'Event', 'City'}, 'Sport'), ({'Discipline', 'Athlete', 'Sport', 'Event', 'City'}, 'Gender'), ({'Discipline', 'Athlete', 'Sport', 'Event', 'City'}, 'Country'), ({'Discipline', 'Medal', 'Year', 'Sport', 'Event'}, 'City'), ({'Discipline', 'Medal', 'Year', 'Event', 'City'}, 'Sport'), ({'Gender', 'Country', 'Medal', 'Year', 'Athlete'}, 'City'), ({'Gender', 'Country', 'Athlete', 'Year', 'Sport'}, 'City'), ({'Gender', 'Country', 'Athlete', 'Year', 'Event'}, 'Sport'), ({'Gender', 'Country', 'Athlete', 'Year', 'Event'}, 'City'), ({'Gender', 'Country', 'Medal', 'Athlete', 'Event'}, 'Sport'), ({'Gender', 'Country', 'Medal', 'Athlete', 'City'}, 'Year'), ({'Gender', 'Country', 'Athlete', 'Event', 'City'}, 'Sport'), ({'Gender', 'Country', 'Medal', 'Year', 'Sport'}, 'City'), ({'Gender', 'Country', 'Medal', 'Year', 'Event'}, 'City'), ({'Gender', 'Country', 'Year', 'Sport', 'Event'}, 'City'), ({'Gender', 'Medal', 'Year', 'Athlete', 'Sport'}, 'City'), ({'Gender', 'Medal', 'Year', 'Athlete', 'Event'}, 'Country'), ({'Gender', 'Medal', 'Year', 'Athlete', 'Event'}, 'Sport'), ({'Gender', 'Medal', 'Year', 'Athlete', 'Event'}, 'City'), ({'Gender', 'Athlete', 'Year', 'Sport', 'Event'}, 'Country'), ({'Gender', 'Athlete', 'Year', 'Sport', 'Event'}, 'City'), ({'Gender', 'Athlete', 'Year', 'Event', 'City'}, 'Country'), ({'Gender', 'Athlete', 'Year', 'Event', 'City'}, 'Sport'), ({'Gender', 'Medal', 'Athlete', 'Sport', 'City'}, 'Year'), ({'Gender', 'Medal', 'Athlete', 'Event', 'City'}, 'Country'), ({'Gender', 'Medal', 'Athlete', 'Event', 'City'}, 'Year'), ({'Gender', 'Medal', 'Athlete', 'Event', 'City'}, 'Sport'), ({'Gender', 'Athlete', 'Sport', 'Event', 'City'}, 'Country'), ({'Gender', 'Medal', 'Year', 'Sport', 'Event'}, 'City'), ({'Country', 'Medal', 'Year', 'Athlete', 'Sport'}, 'Gender'), ({'Country', 'Medal', 'Year', 'Athlete', 'Sport'}, 'City'), ({'Country', 'Medal', 'Year', 'Athlete', 'Event'}, 'Gender'), ({'Country', 'Medal', 'Year', 'Athlete', 'Event'}, 'Sport'), ({'Country', 'Medal', 'Year', 'Athlete', 'Event'}, 'City'), ({'Country', 'Athlete', 'Year', 'Sport', 'Event'}, 'Gender'), ({'Country', 'Athlete', 'Year', 'Sport', 'Event'}, 'City'), ({'Country', 'Athlete', 'Year', 'Sport', 'City'}, 'Gender'), ({'Country', 'Athlete', 'Year', 'Event', 'City'}, 'Gender'), ({'Country', 'Athlete', 'Year', 'Event', 'City'}, 'Sport'), ({'Country', 'Medal', 'Athlete', 'Sport', 'Event'}, 'Gender'), ({'Country', 'Medal', 'Athlete', 'Sport', 'City'}, 'Gender'), ({'Country', 'Medal', 'Athlete', 'Sport', 'City'}, 'Year'), ({'Country', 'Medal', 'Athlete', 'Event', 'City'}, 'Gender'), ({'Country', 'Medal', 'Athlete', 'Event', 'City'}, 'Year'), ({'Country', 'Medal', 'Athlete', 'Event', 'City'}, 'Sport'), ({'Country', 'Athlete', 'Sport', 'Event', 'City'}, 'Gender'), ({'Country', 'Medal', 'Year', 'Sport', 'Event'}, 'City'), ({'Medal', 'Year', 'Athlete', 'Sport', 'Event'}, 'Gender'), ({'Medal', 'Year', 'Athlete', 'Sport', 'Event'}, 'Country'), ({'Medal', 'Year', 'Athlete', 'Sport', 'Event'}, 'City'), ({'Medal', 'Year', 'Athlete', 'Sport', 'City'}, 'Gender'), ({'Medal', 'Year', 'Athlete', 'Event', 'City'}, 'Gender'), ({'Medal', 'Year', 'Athlete', 'Event', 'City'}, 'Country'), ({'Medal', 'Year', 'Athlete', 'Event', 'City'}, 'Sport'), ({'Athlete', 'Year', 'Sport', 'Event', 'City'}, 'Gender'), ({'Athlete', 'Year', 'Sport', 'Event', 'City'}, 'Country'), ({'Medal', 'Athlete', 'Sport', 'Event', 'City'}, 'Gender'), ({'Medal', 'Athlete', 'Sport', 'Event', 'City'}, 'Country'), ({'Medal', 'Athlete', 'Sport', 'Event', 'City'}, 'Year'), ({'Discipline', 'Gender', 'Country', 'Athlete', 'Year', 'Medal'}, 'Sport'), ({'Discipline', 'Gender', 'Country', 'Athlete', 'Year', 'Medal'}, 'City'), ({'Discipline', 'Gender', 'Country', 'Athlete', 'Year', 'Sport'}, 'City'), ({'Discipline', 'Gender', 'Country', 'Athlete', 'Year', 'Event'}, 'Sport'), ({'Discipline', 'Gender', 'Country', 'Athlete', 'Year', 'Event'}, 'City'), ({'Discipline', 'Gender', 'Country', 'Athlete', 'Year', 'City'}, 'Sport'), ({'Discipline', 'Gender', 'Country', 'Medal', 'Athlete', 'Event'}, 'Sport'), ({'Discipline', 'Gender', 'Country', 'Medal', 'Athlete', 'City'}, 'Year'), ({'Discipline', 'Gender', 'Country', 'Medal', 'Athlete', 'City'}, 'Sport'), ({'Discipline', 'Gender', 'Country', 'Athlete', 'Event', 'City'}, 'Sport'), ({'Discipline', 'Gender', 'Country', 'Medal', 'Year', 'Sport'}, 'City'), ({'Discipline', 'Gender', 'Country', 'Medal', 'Year', 'Event'}, 'Sport'), ({'Discipline', 'Gender', 'Country', 'Medal', 'Year', 'Event'}, 'City'), ({'Discipline', 'Gender', 'Country', 'Medal', 'Year', 'City'}, 'Sport'), ({'Discipline', 'Gender', 'Country', 'Year', 'Sport', 'Event'}, 'City'), ({'Discipline', 'Gender', 'Country', 'Year', 'Event', 'City'}, 'Sport'), ({'Discipline', 'Gender', 'Country', 'Medal', 'Event', 'City'}, 'Sport'), ({'Discipline', 'Gender', 'Medal', 'Year', 'Athlete', 'Sport'}, 'City'), ({'Discipline', 'Gender', 'Medal', 'Year', 'Athlete', 'Event'}, 'Country'), ({'Discipline', 'Gender', 'Medal', 'Year', 'Athlete', 'Event'}, 'Sport'), ({'Discipline', 'Gender', 'Medal', 'Year', 'Athlete', 'Event'}, 'City'), ({'Discipline', 'Gender', 'Medal', 'Year', 'Athlete', 'City'}, 'Sport'), ({'Discipline', 'Gender', 'Athlete', 'Year', 'Sport', 'Event'}, 'Country'), ({'Discipline', 'Gender', 'Athlete', 'Year', 'Sport', 'Event'}, 'City'), ({'Discipline', 'Gender', 'Athlete', 'Year', 'Event', 'City'}, 'Country'), ({'Discipline', 'Gender', 'Athlete', 'Year', 'Event', 'City'}, 'Sport'), ({'Discipline', 'Gender', 'Medal', 'Athlete', 'Sport', 'City'}, 'Year'), ({'Discipline', 'Gender', 'Medal', 'Athlete', 'Event', 'City'}, 'Country'), ({'Discipline', 'Gender', 'Medal', 'Athlete', 'Event', 'City'}, 'Year'), ({'Discipline', 'Gender', 'Medal', 'Athlete', 'Event', 'City'}, 'Sport'), ({'Discipline', 'Gender', 'Athlete', 'Sport', 'Event', 'City'}, 'Country'), ({'Discipline', 'Gender', 'Medal', 'Year', 'Sport', 'Event'}, 'City'), ({'Discipline', 'Gender', 'Medal', 'Year', 'Event', 'City'}, 'Sport'), ({'Discipline', 'Country', 'Medal', 'Year', 'Athlete', 'Sport'}, 'Gender'), ({'Discipline', 'Country', 'Medal', 'Year', 'Athlete', 'Sport'}, 'City'), ({'Discipline', 'Country', 'Medal', 'Year', 'Athlete', 'Event'}, 'Gender'), ({'Discipline', 'Country', 'Medal', 'Year', 'Athlete', 'Event'}, 'Sport'), ({'Discipline', 'Country', 'Medal', 'Year', 'Athlete', 'Event'}, 'City'), ({'Discipline', 'Country', 'Medal', 'Year', 'Athlete', 'City'}, 'Gender'), ({'Discipline', 'Country', 'Medal', 'Year', 'Athlete', 'City'}, 'Sport'), ({'Discipline', 'Country', 'Athlete', 'Year', 'Sport', 'Event'}, 'Gender'), ({'Discipline', 'Country', 'Athlete', 'Year', 'Sport', 'Event'}, 'City'), ({'Discipline', 'Country', 'Athlete', 'Year', 'Sport', 'City'}, 'Gender'), ({'Discipline', 'Country', 'Athlete', 'Year', 'Event', 'City'}, 'Gender'), ({'Discipline', 'Country', 'Athlete', 'Year', 'Event', 'City'}, 'Sport'), ({'Discipline', 'Country', 'Medal', 'Athlete', 'Sport', 'Event'}, 'Gender'), ({'Discipline', 'Country', 'Medal', 'Athlete', 'Sport', 'City'}, 'Gender'), ({'Discipline', 'Country', 'Medal', 'Athlete', 'Sport', 'City'}, 'Year'), ({'Discipline', 'Country', 'Medal', 'Athlete', 'Event', 'City'}, 'Gender'), ({'Discipline', 'Country', 'Medal', 'Athlete', 'Event', 'City'}, 'Year'), ({'Discipline', 'Country', 'Medal', 'Athlete', 'Event', 'City'}, 'Sport'), ({'Discipline', 'Country', 'Athlete', 'Sport', 'Event', 'City'}, 'Gender'), ({'Discipline', 'Country', 'Medal', 'Year', 'Sport', 'Event'}, 'City'), ({'Discipline', 'Country', 'Medal', 'Year', 'Event', 'City'}, 'Sport'), ({'Discipline', 'Medal', 'Year', 'Athlete', 'Sport', 'Event'}, 'Gender'), ({'Discipline', 'Medal', 'Year', 'Athlete', 'Sport', 'Event'}, 'Country'), ({'Discipline', 'Medal', 'Year', 'Athlete', 'Sport', 'Event'}, 'City'), ({'Discipline', 'Medal', 'Year', 'Athlete', 'Sport', 'City'}, 'Gender'), ({'Discipline', 'Medal', 'Year', 'Athlete', 'Event', 'City'}, 'Gender'), ({'Discipline', 'Medal', 'Year', 'Athlete', 'Event', 'City'}, 'Country'), ({'Discipline', 'Medal', 'Year', 'Athlete', 'Event', 'City'}, 'Sport'), ({'Discipline', 'Athlete', 'Year', 'Sport', 'Event', 'City'}, 'Gender'), ({'Discipline', 'Athlete', 'Year', 'Sport', 'Event', 'City'}, 'Country'), ({'Discipline', 'Medal', 'Athlete', 'Sport', 'Event', 'City'}, 'Gender'), ({'Discipline', 'Medal', 'Athlete', 'Sport', 'Event', 'City'}, 'Country'), ({'Discipline', 'Medal', 'Athlete', 'Sport', 'Event', 'City'}, 'Year'), ({'Gender', 'Country', 'Medal', 'Year', 'Athlete', 'Sport'}, 'City'), ({'Gender', 'Country', 'Medal', 'Year', 'Athlete', 'Event'}, 'Sport'), ({'Gender', 'Country', 'Medal', 'Year', 'Athlete', 'Event'}, 'City'), ({'Gender', 'Country', 'Athlete', 'Year', 'Sport', 'Event'}, 'City'), ({'Gender', 'Country', 'Athlete', 'Year', 'Event', 'City'}, 'Sport'), ({'Gender', 'Country', 'Medal', 'Athlete', 'Sport', 'City'}, 'Year'), ({'Gender', 'Country', 'Medal', 'Athlete', 'Event', 'City'}, 'Year'), ({'Gender', 'Country', 'Medal', 'Athlete', 'Event', 'City'}, 'Sport'), ({'Gender', 'Country', 'Medal', 'Year', 'Sport', 'Event'}, 'City'), ({'Gender', 'Medal', 'Year', 'Athlete', 'Sport', 'Event'}, 'Country'), ({'Gender', 'Medal', 'Year', 'Athlete', 'Sport', 'Event'}, 'City'), ({'Gender', 'Medal', 'Year', 'Athlete', 'Event', 'City'}, 'Country'), ({'Gender', 'Medal', 'Year', 'Athlete', 'Event', 'City'}, 'Sport'), ({'Gender', 'Athlete', 'Year', 'Sport', 'Event', 'City'}, 'Country'), ({'Gender', 'Medal', 'Athlete', 'Sport', 'Event', 'City'}, 'Country'), ({'Gender', 'Medal', 'Athlete', 'Sport', 'Event', 'City'}, 'Year'), ({'Country', 'Medal', 'Year', 'Athlete', 'Sport', 'Event'}, 'Gender'), ({'Country', 'Medal', 'Year', 'Athlete', 'Sport', 'Event'}, 'City'), ({'Country', 'Medal', 'Year', 'Athlete', 'Sport', 'City'}, 'Gender'), ({'Country', 'Medal', 'Year', 'Athlete', 'Event', 'City'}, 'Gender'), ({'Country', 'Medal', 'Year', 'Athlete', 'Event', 'City'}, 'Sport'), ({'Country', 'Athlete', 'Year', 'Sport', 'Event', 'City'}, 'Gender'), ({'Country', 'Medal', 'Athlete', 'Sport', 'Event', 'City'}, 'Gender'), ({'Country', 'Medal', 'Athlete', 'Sport', 'Event', 'City'}, 'Year'), ({'Medal', 'Year', 'Athlete', 'Sport', 'Event', 'City'}, 'Gender'), ({'Medal', 'Year', 'Athlete', 'Sport', 'Event', 'City'}, 'Country'), ({'Discipline', 'Gender', 'Country', 'Athlete', 'Year', 'Medal', 'Sport'}, 'City'), ({'Discipline', 'Gender', 'Country', 'Athlete', 'Year', 'Medal', 'Event'}, 'Sport'), ({'Discipline', 'Gender', 'Country', 'Athlete', 'Year', 'Medal', 'Event'}, 'City'), ({'Discipline', 'Gender', 'Country', 'Athlete', 'Year', 'Medal', 'City'}, 'Sport'), ({'Discipline', 'Gender', 'Country', 'Athlete', 'Year', 'Sport', 'Event'}, 'City'), ({'Discipline', 'Gender', 'Country', 'Athlete', 'Year', 'Event', 'City'}, 'Sport'), ({'Discipline', 'Gender', 'Country', 'Medal', 'Athlete', 'Sport', 'City'}, 'Year'), ({'Discipline', 'Gender', 'Country', 'Medal', 'Athlete', 'Event', 'City'}, 'Year'), ({'Discipline', 'Gender', 'Country', 'Medal', 'Athlete', 'Event', 'City'}, 'Sport'), ({'Discipline', 'Gender', 'Country', 'Medal', 'Year', 'Sport', 'Event'}, 'City'), ({'Discipline', 'Gender', 'Country', 'Medal', 'Year', 'Event', 'City'}, 'Sport'), ({'Discipline', 'Gender', 'Medal', 'Year', 'Athlete', 'Sport', 'Event'}, 'Country'), ({'Discipline', 'Gender', 'Medal', 'Year', 'Athlete', 'Sport', 'Event'}, 'City'), ({'Discipline', 'Gender', 'Medal', 'Year', 'Athlete', 'Event', 'City'}, 'Country'), ({'Discipline', 'Gender', 'Medal', 'Year', 'Athlete', 'Event', 'City'}, 'Sport'), ({'Discipline', 'Gender', 'Athlete', 'Year', 'Sport', 'Event', 'City'}, 'Country'), ({'Discipline', 'Gender', 'Medal', 'Athlete', 'Sport', 'Event', 'City'}, 'Country'), ({'Discipline', 'Gender', 'Medal', 'Athlete', 'Sport', 'Event', 'City'}, 'Year'), ({'Discipline', 'Country', 'Medal', 'Year', 'Athlete', 'Sport', 'Event'}, 'Gender'), ({'Discipline', 'Country', 'Medal', 'Year', 'Athlete', 'Sport', 'Event'}, 'City'), ({'Discipline', 'Country', 'Medal', 'Year', 'Athlete', 'Sport', 'City'}, 'Gender'), ({'Discipline', 'Country', 'Medal', 'Year', 'Athlete', 'Event', 'City'}, 'Gender'), ({'Discipline', 'Country', 'Medal', 'Year', 'Athlete', 'Event', 'City'}, 'Sport'), ({'Discipline', 'Country', 'Athlete', 'Year', 'Sport', 'Event', 'City'}, 'Gender'), ({'Discipline', 'Country', 'Medal', 'Athlete', 'Sport', 'Event', 'City'}, 'Gender'), ({'Discipline', 'Country', 'Medal', 'Athlete', 'Sport', 'Event', 'City'}, 'Year'), ({'Discipline', 'Medal', 'Year', 'Athlete', 'Sport', 'Event', 'City'}, 'Gender'), ({'Discipline', 'Medal', 'Year', 'Athlete', 'Sport', 'Event', 'City'}, 'Country'), ({'Gender', 'Country', 'Medal', 'Year', 'Athlete', 'Sport', 'Event'}, 'City'), ({'Gender', 'Country', 'Medal', 'Year', 'Athlete', 'Event', 'City'}, 'Sport'), ({'Gender', 'Country', 'Medal', 'Athlete', 'Sport', 'Event', 'City'}, 'Year'), ({'Gender', 'Medal', 'Year', 'Athlete', 'Sport', 'Event', 'City'}, 'Country'), ({'Country', 'Medal', 'Year', 'Athlete', 'Sport', 'Event', 'City'}, 'Gender'), ({'Discipline', 'Gender', 'Country', 'Athlete', 'Year', 'Medal', 'Sport', 'Event'}, 'City'), ({'Discipline', 'Gender', 'Country', 'Athlete', 'Year', 'Medal', 'Event', 'City'}, 'Sport'), ({'Discipline', 'Gender', 'Country', 'Medal', 'Athlete', 'Sport', 'Event', 'City'}, 'Year'), ({'Discipline', 'Gender', 'Medal', 'Year', 'Athlete', 'Sport', 'Event', 'City'}, 'Country'), ({'Discipline', 'Country', 'Medal', 'Year', 'Athlete', 'Sport', 'Event', 'City'}, 'Gender')]\n"
     ]
    }
   ],
   "source": [
    "olympic_fds = get_all_fds(df)\n",
    "print(olympic_fds)"
   ]
  },
  {
   "cell_type": "code",
   "execution_count": 334,
   "id": "published-arnold",
   "metadata": {},
   "outputs": [],
   "source": [
    "#list([set(x) for x in list(powerset(set(df.columns))) if len(x) > 0])"
   ]
  },
  {
   "cell_type": "code",
   "execution_count": 115,
   "id": "drawn-reservoir",
   "metadata": {},
   "outputs": [],
   "source": [
    "from closure import *"
   ]
  },
  {
   "cell_type": "markdown",
   "id": "traditional-sodium",
   "metadata": {},
   "source": [
    "### Now it is time to find the BCNF decomposition"
   ]
  },
  {
   "cell_type": "code",
   "execution_count": 368,
   "id": "driving-stroke",
   "metadata": {},
   "outputs": [],
   "source": [
    "global_R_attrs = set(df.columns)\n",
    "\n",
    "def check_superkey(a_set, FDs):\n",
    "    implied = set()\n",
    "    for fd in FDs:\n",
    "        for a_combo in list([set(x) for x in list(powerset(a_set)) if len(x) > 0]):\n",
    "            if a_combo == fd[0]:\n",
    "                implied.add(fd[1])\n",
    "    \n",
    "    if implied == global_R_attrs:\n",
    "        return True\n",
    "    else:\n",
    "        return False\n",
    "\n",
    "# def compute_closure(x, FDs): \n",
    "#     # Return the closure of x but not including x\n",
    "#     pass\n",
    "\n",
    "memo = {}\n",
    "def bcnf_decompose(R_attrs, verbose=False):\n",
    "    # A relation R is in BCNF if and only if: \n",
    "    # whenever there is a nontrivial FD  A1 A2 ... An -> B1 B2 ... Bm for R,\n",
    "    # it is the case that { A1, A2 , ... , An } is  a superkey for R\n",
    "\n",
    "    attr_combos = list([set(x) for x in list(powerset(R_attrs)) if len(x) > 0])\n",
    "    \n",
    "    for attr_combo in attr_combos:\n",
    "        \n",
    "        x_closure = compute_closure(attr_combo, reversed(olympic_fds)).intersection(R_attrs)\n",
    "        if not is_superkey(attr_combo, R_attrs, reversed(olympic_fds)) and x_closure != attr_combo:\n",
    "            \n",
    "            print(attr_combo, \"bad fd\", x_closure)\n",
    "            \n",
    "            if verbose:\n",
    "                print(\"R_attrs:\", R_attrs)\n",
    "                print(\"X or attr_combo:\", attr_combo)\n",
    "         \n",
    "                \n",
    "            z = R_attrs - x_closure \n",
    "           \n",
    "            y = x_closure - attr_combo\n",
    "            \n",
    "            if verbose:\n",
    "                print(\"y :\", y)\n",
    "                print(\"z: \", z)\n",
    "            \n",
    "            r1 = bcnf_decompose(y.union(attr_combo))\n",
    "            r2 = bcnf_decompose(z.union(attr_combo))\n",
    "            \n",
    "            return [r1, r2]\n",
    "        \n",
    "    return R_attrs\n",
    "    \n",
    "    \n",
    "    \n",
    "def bcnf(R_attrs, verbose=False):\n",
    "    return bcnf_decompose(R_attrs, verbose)\n",
    "\n"
   ]
  },
  {
   "cell_type": "code",
   "execution_count": 382,
   "id": "better-brand",
   "metadata": {},
   "outputs": [
    {
     "name": "stdout",
     "output_type": "stream",
     "text": [
      "{'Discipline'} bad fd {'Discipline', 'Sport'}\n",
      "R_attrs: {'Discipline', 'Gender', 'Country', 'Athlete', 'Year', 'Medal', 'Sport', 'Event', 'City'}\n",
      "X or attr_combo: {'Discipline'}\n",
      "y : {'Sport'}\n",
      "z:  {'Gender', 'Country', 'Medal', 'Year', 'Athlete', 'Event', 'City'}\n",
      "{'Year'} bad fd {'Year', 'City'}\n",
      "{'Event', 'Athlete'} bad fd {'Event', 'Gender', 'Athlete'}\n",
      "{'Year', 'Event', 'Athlete'} bad fd {'Year', 'Event', 'Country', 'Athlete'}\n",
      "{'Discipline'} bad fd {'Discipline', 'Sport'}\n",
      "R_attrs: {'Discipline', 'Gender', 'Country', 'Athlete', 'Year', 'Medal', 'Sport', 'Event', 'City'}\n",
      "X or attr_combo: {'Discipline'}\n",
      "y : {'Sport'}\n",
      "z:  {'Gender', 'Country', 'Medal', 'Year', 'Athlete', 'Event', 'City'}\n",
      "{'Year'} bad fd {'Year', 'City'}\n",
      "{'Event', 'Athlete'} bad fd {'Event', 'Gender', 'Athlete'}\n",
      "{'Year', 'Event', 'Athlete'} bad fd {'Year', 'Event', 'Country', 'Athlete'}\n"
     ]
    }
   ],
   "source": [
    "decomp = bcnf(global_R_attrs, reversed(olympic_fds)) \n",
    "decomp1 = bcnf(global_R_attrs, olympic_fds)"
   ]
  },
  {
   "cell_type": "code",
   "execution_count": 384,
   "id": "subject-english",
   "metadata": {},
   "outputs": [
    {
     "data": {
      "text/plain": [
       "[{'Discipline', 'Sport'},\n",
       " [{'City', 'Year'},\n",
       "  [{'Athlete', 'Event', 'Gender'},\n",
       "   [{'Athlete', 'Country', 'Event', 'Year'},\n",
       "    {'Athlete', 'Discipline', 'Event', 'Medal', 'Year'}]]]]"
      ]
     },
     "execution_count": 384,
     "metadata": {},
     "output_type": "execute_result"
    }
   ],
   "source": [
    "decomp"
   ]
  },
  {
   "cell_type": "code",
   "execution_count": 9,
   "id": "integral-antibody",
   "metadata": {},
   "outputs": [
    {
     "data": {
      "text/plain": [
       "27"
      ]
     },
     "execution_count": 9,
     "metadata": {},
     "output_type": "execute_result"
    }
   ],
   "source": [
    "len(df.Year.unique())"
   ]
  },
  {
   "cell_type": "code",
   "execution_count": 10,
   "id": "joined-satin",
   "metadata": {},
   "outputs": [
    {
     "data": {
      "text/plain": [
       "22"
      ]
     },
     "execution_count": 10,
     "metadata": {},
     "output_type": "execute_result"
    }
   ],
   "source": [
    "len(df.City.unique())"
   ]
  },
  {
   "cell_type": "code",
   "execution_count": 11,
   "id": "piano-visit",
   "metadata": {},
   "outputs": [
    {
     "data": {
      "text/plain": [
       "666"
      ]
     },
     "execution_count": 11,
     "metadata": {},
     "output_type": "execute_result"
    }
   ],
   "source": [
    "len(df.Event.unique())"
   ]
  },
  {
   "cell_type": "code",
   "execution_count": 15,
   "id": "appointed-savannah",
   "metadata": {},
   "outputs": [
    {
     "data": {
      "text/plain": [
       "67"
      ]
     },
     "execution_count": 15,
     "metadata": {},
     "output_type": "execute_result"
    }
   ],
   "source": [
    "len(df.Discipline.unique())"
   ]
  },
  {
   "cell_type": "code",
   "execution_count": 16,
   "id": "naval-lancaster",
   "metadata": {},
   "outputs": [
    {
     "data": {
      "text/plain": [
       "43"
      ]
     },
     "execution_count": 16,
     "metadata": {},
     "output_type": "execute_result"
    }
   ],
   "source": [
    "len(df.Sport.unique())"
   ]
  },
  {
   "cell_type": "code",
   "execution_count": 14,
   "id": "determined-complement",
   "metadata": {},
   "outputs": [
    {
     "data": {
      "text/html": [
       "<div>\n",
       "<style scoped>\n",
       "    .dataframe tbody tr th:only-of-type {\n",
       "        vertical-align: middle;\n",
       "    }\n",
       "\n",
       "    .dataframe tbody tr th {\n",
       "        vertical-align: top;\n",
       "    }\n",
       "\n",
       "    .dataframe thead th {\n",
       "        text-align: right;\n",
       "    }\n",
       "</style>\n",
       "<table border=\"1\" class=\"dataframe\">\n",
       "  <thead>\n",
       "    <tr style=\"text-align: right;\">\n",
       "      <th></th>\n",
       "      <th>Year</th>\n",
       "      <th>City</th>\n",
       "      <th>Sport</th>\n",
       "      <th>Discipline</th>\n",
       "      <th>Athlete</th>\n",
       "      <th>Country</th>\n",
       "      <th>Gender</th>\n",
       "      <th>Event</th>\n",
       "      <th>Medal</th>\n",
       "    </tr>\n",
       "  </thead>\n",
       "  <tbody>\n",
       "    <tr>\n",
       "      <th>72</th>\n",
       "      <td>1896</td>\n",
       "      <td>Athens</td>\n",
       "      <td>Gymnastics</td>\n",
       "      <td>Artistic G.</td>\n",
       "      <td>WEINGÄRTNER, Hermann</td>\n",
       "      <td>GER</td>\n",
       "      <td>Men</td>\n",
       "      <td>Horizontal Bar</td>\n",
       "      <td>Gold</td>\n",
       "    </tr>\n",
       "    <tr>\n",
       "      <th>73</th>\n",
       "      <td>1896</td>\n",
       "      <td>Athens</td>\n",
       "      <td>Gymnastics</td>\n",
       "      <td>Artistic G.</td>\n",
       "      <td>FLATOW, Alfred</td>\n",
       "      <td>GER</td>\n",
       "      <td>Men</td>\n",
       "      <td>Horizontal Bar</td>\n",
       "      <td>Silver</td>\n",
       "    </tr>\n",
       "    <tr>\n",
       "      <th>74</th>\n",
       "      <td>1896</td>\n",
       "      <td>Athens</td>\n",
       "      <td>Gymnastics</td>\n",
       "      <td>Artistic G.</td>\n",
       "      <td>FLATOW, Alfred</td>\n",
       "      <td>GER</td>\n",
       "      <td>Men</td>\n",
       "      <td>Parallel Bars</td>\n",
       "      <td>Gold</td>\n",
       "    </tr>\n",
       "    <tr>\n",
       "      <th>75</th>\n",
       "      <td>1896</td>\n",
       "      <td>Athens</td>\n",
       "      <td>Gymnastics</td>\n",
       "      <td>Artistic G.</td>\n",
       "      <td>ZUTTER, Louis</td>\n",
       "      <td>SUI</td>\n",
       "      <td>Men</td>\n",
       "      <td>Parallel Bars</td>\n",
       "      <td>Silver</td>\n",
       "    </tr>\n",
       "    <tr>\n",
       "      <th>76</th>\n",
       "      <td>1896</td>\n",
       "      <td>Athens</td>\n",
       "      <td>Gymnastics</td>\n",
       "      <td>Artistic G.</td>\n",
       "      <td>ZUTTER, Louis</td>\n",
       "      <td>SUI</td>\n",
       "      <td>Men</td>\n",
       "      <td>Pommel Horse</td>\n",
       "      <td>Gold</td>\n",
       "    </tr>\n",
       "    <tr>\n",
       "      <th>...</th>\n",
       "      <td>...</td>\n",
       "      <td>...</td>\n",
       "      <td>...</td>\n",
       "      <td>...</td>\n",
       "      <td>...</td>\n",
       "      <td>...</td>\n",
       "      <td>...</td>\n",
       "      <td>...</td>\n",
       "      <td>...</td>\n",
       "    </tr>\n",
       "    <tr>\n",
       "      <th>30390</th>\n",
       "      <td>2012</td>\n",
       "      <td>London</td>\n",
       "      <td>Gymnastics</td>\n",
       "      <td>Trampoline</td>\n",
       "      <td>USHAKOV, Dmitry</td>\n",
       "      <td>RUS</td>\n",
       "      <td>Men</td>\n",
       "      <td>Individual</td>\n",
       "      <td>Silver</td>\n",
       "    </tr>\n",
       "    <tr>\n",
       "      <th>30391</th>\n",
       "      <td>2012</td>\n",
       "      <td>London</td>\n",
       "      <td>Gymnastics</td>\n",
       "      <td>Trampoline</td>\n",
       "      <td>LU, Chunlong</td>\n",
       "      <td>CHN</td>\n",
       "      <td>Men</td>\n",
       "      <td>Individual</td>\n",
       "      <td>Bronze</td>\n",
       "    </tr>\n",
       "    <tr>\n",
       "      <th>30392</th>\n",
       "      <td>2012</td>\n",
       "      <td>London</td>\n",
       "      <td>Gymnastics</td>\n",
       "      <td>Trampoline</td>\n",
       "      <td>MACLENNAN, Rosannagh</td>\n",
       "      <td>CAN</td>\n",
       "      <td>Women</td>\n",
       "      <td>Individual</td>\n",
       "      <td>Gold</td>\n",
       "    </tr>\n",
       "    <tr>\n",
       "      <th>30393</th>\n",
       "      <td>2012</td>\n",
       "      <td>London</td>\n",
       "      <td>Gymnastics</td>\n",
       "      <td>Trampoline</td>\n",
       "      <td>HUANG, Shanshan</td>\n",
       "      <td>CHN</td>\n",
       "      <td>Women</td>\n",
       "      <td>Individual</td>\n",
       "      <td>Silver</td>\n",
       "    </tr>\n",
       "    <tr>\n",
       "      <th>30394</th>\n",
       "      <td>2012</td>\n",
       "      <td>London</td>\n",
       "      <td>Gymnastics</td>\n",
       "      <td>Trampoline</td>\n",
       "      <td>HE, Wenna</td>\n",
       "      <td>CHN</td>\n",
       "      <td>Women</td>\n",
       "      <td>Individual</td>\n",
       "      <td>Bronze</td>\n",
       "    </tr>\n",
       "  </tbody>\n",
       "</table>\n",
       "<p>2307 rows × 9 columns</p>\n",
       "</div>"
      ],
      "text/plain": [
       "       Year    City       Sport   Discipline               Athlete Country  \\\n",
       "72     1896  Athens  Gymnastics  Artistic G.  WEINGÄRTNER, Hermann     GER   \n",
       "73     1896  Athens  Gymnastics  Artistic G.        FLATOW, Alfred     GER   \n",
       "74     1896  Athens  Gymnastics  Artistic G.        FLATOW, Alfred     GER   \n",
       "75     1896  Athens  Gymnastics  Artistic G.         ZUTTER, Louis     SUI   \n",
       "76     1896  Athens  Gymnastics  Artistic G.         ZUTTER, Louis     SUI   \n",
       "...     ...     ...         ...          ...                   ...     ...   \n",
       "30390  2012  London  Gymnastics   Trampoline       USHAKOV, Dmitry     RUS   \n",
       "30391  2012  London  Gymnastics   Trampoline          LU, Chunlong     CHN   \n",
       "30392  2012  London  Gymnastics   Trampoline  MACLENNAN, Rosannagh     CAN   \n",
       "30393  2012  London  Gymnastics   Trampoline       HUANG, Shanshan     CHN   \n",
       "30394  2012  London  Gymnastics   Trampoline             HE, Wenna     CHN   \n",
       "\n",
       "      Gender           Event   Medal  \n",
       "72       Men  Horizontal Bar    Gold  \n",
       "73       Men  Horizontal Bar  Silver  \n",
       "74       Men   Parallel Bars    Gold  \n",
       "75       Men   Parallel Bars  Silver  \n",
       "76       Men    Pommel Horse    Gold  \n",
       "...      ...             ...     ...  \n",
       "30390    Men      Individual  Silver  \n",
       "30391    Men      Individual  Bronze  \n",
       "30392  Women      Individual    Gold  \n",
       "30393  Women      Individual  Silver  \n",
       "30394  Women      Individual  Bronze  \n",
       "\n",
       "[2307 rows x 9 columns]"
      ]
     },
     "execution_count": 14,
     "metadata": {},
     "output_type": "execute_result"
    }
   ],
   "source": [
    "df[df.Sport=='Gymnastics']"
   ]
  },
  {
   "cell_type": "code",
   "execution_count": 385,
   "id": "accepted-telescope",
   "metadata": {
    "collapsed": true,
    "jupyter": {
     "outputs_hidden": true
    },
    "tags": []
   },
   "outputs": [
    {
     "name": "stdout",
     "output_type": "stream",
     "text": [
      "('Athens', 0        1896\n",
      "1        1896\n",
      "2        1896\n",
      "3        1896\n",
      "4        1896\n",
      "         ... \n",
      "27169    2004\n",
      "27170    2004\n",
      "27171    2004\n",
      "27172    2004\n",
      "27173    2004\n",
      "Name: Year, Length: 2149, dtype: int64)\n",
      "('London', 1133     1908\n",
      "1134     1908\n",
      "1135     1908\n",
      "1136     1908\n",
      "1137     1908\n",
      "         ... \n",
      "31160    2012\n",
      "31161    2012\n",
      "31162    2012\n",
      "31163    2012\n",
      "31164    2012\n",
      "Name: Year, Length: 3567, dtype: int64)\n",
      "('Los Angeles', 5714     1932\n",
      "5715     1932\n",
      "5716     1932\n",
      "5717     1932\n",
      "5718     1932\n",
      "         ... \n",
      "18046    1984\n",
      "18047    1984\n",
      "18048    1984\n",
      "18049    1984\n",
      "18050    1984\n",
      "Name: Year, Length: 2074, dtype: int64)\n",
      "('Paris', 151     1900\n",
      "152     1900\n",
      "153     1900\n",
      "154     1900\n",
      "155     1900\n",
      "        ... \n",
      "4999    1924\n",
      "5000    1924\n",
      "5001    1924\n",
      "5002    1924\n",
      "5003    1924\n",
      "Name: Year, Length: 1396, dtype: int64)\n"
     ]
    }
   ],
   "source": [
    "for group in df.groupby(['City'])['Year']:\n",
    "        if len(group[1].unique()) > 1:\n",
    "            print(group)"
   ]
  },
  {
   "cell_type": "code",
   "execution_count": null,
   "id": "reflected-wages",
   "metadata": {},
   "outputs": [],
   "source": []
  }
 ],
 "metadata": {
  "kernelspec": {
   "display_name": "Python 3 (ipykernel)",
   "language": "python",
   "name": "python3"
  },
  "language_info": {
   "codemirror_mode": {
    "name": "ipython",
    "version": 3
   },
   "file_extension": ".py",
   "mimetype": "text/x-python",
   "name": "python",
   "nbconvert_exporter": "python",
   "pygments_lexer": "ipython3",
   "version": "3.9.6"
  }
 },
 "nbformat": 4,
 "nbformat_minor": 5
}
